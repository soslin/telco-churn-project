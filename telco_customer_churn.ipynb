{
 "cells": [
  {
   "cell_type": "markdown",
   "metadata": {},
   "source": [
    "# Why are Telco's Customers Churning? \n",
    "## A Root Cause Analysis"
   ]
  },
  {
   "cell_type": "markdown",
   "metadata": {},
   "source": [
    "### Sean Oslin"
   ]
  },
  {
   "cell_type": "markdown",
   "metadata": {},
   "source": [
    " "
   ]
  },
  {
   "cell_type": "markdown",
   "metadata": {},
   "source": [
    "## Project planning phase"
   ]
  },
  {
   "cell_type": "markdown",
   "metadata": {},
   "source": [
    "### Project goal"
   ]
  },
  {
   "cell_type": "markdown",
   "metadata": {},
   "source": [
    "Goal: Examine internal data of Telco to determine what factors seem, in retrospect, to predict churn and create predictive models to determine who is most at risk for churn so strategies can be devised to enhance retention."
   ]
  },
  {
   "cell_type": "markdown",
   "metadata": {},
   "source": [
    "### Research questions"
   ]
  },
  {
   "cell_type": "markdown",
   "metadata": {},
   "source": [
    "- Which features indicate a higher propensity to churn?\n",
    "- Is there a price threshold where the likelihood of churn increases? If so, what is that point?\n",
    "- Are the churn rates for month-to-month customers 1-year contract customers after the 12th month?\n"
   ]
  },
  {
   "cell_type": "markdown",
   "metadata": {},
   "source": [
    "### Deliverables"
   ]
  },
  {
   "cell_type": "markdown",
   "metadata": {},
   "source": [
    "1. Jupyter notebook where your work takes place\n",
    "\n",
    "2. CSV file that predicts churn for each customer\n",
    "\n",
    "3. Python script that prepares data such that it can be fed into your model\n",
    "\n",
    "4. Google slide summarizing your model\n",
    "\n",
    "5. README.md file that contains a link to your google slides presentation, and instructions for how to use your python script(s)\n"
   ]
  },
  {
   "cell_type": "markdown",
   "metadata": {},
   "source": [
    " "
   ]
  },
  {
   "cell_type": "markdown",
   "metadata": {},
   "source": [
    "### Null and alternative hypotheses"
   ]
  },
  {
   "cell_type": "markdown",
   "metadata": {},
   "source": [
    "H<sub>0</sub>:  Telco's data cannot provide any discernable causes for client churn\n",
    "\n",
    "H<sub>a</sub>:  Reasons for client churn can be elucidated from Telco's data"
   ]
  },
  {
   "cell_type": "markdown",
   "metadata": {},
   "source": [
    " "
   ]
  },
  {
   "cell_type": "markdown",
   "metadata": {},
   "source": [
    "### Python libraries used for analysis"
   ]
  },
  {
   "cell_type": "code",
   "execution_count": 1,
   "metadata": {},
   "outputs": [],
   "source": [
    "import pandas as pd\n",
    "import numpy as np\n",
    "\n",
    "import statsmodels.api as sm\n",
    "from statsmodels.sandbox.regression.predstd import wls_prediction_std\n",
    "\n",
    "import warnings\n",
    "warnings.filterwarnings(\"ignore\")\n",
    "\n",
    "from scipy import stats\n",
    "\n",
    "from sklearn.model_selection import train_test_split\n",
    "from sklearn.preprocessing import StandardScaler\n",
    "from sklearn.metrics import mean_squared_error, r2_score, explained_variance_score\n",
    "from sklearn.feature_selection import f_regression \n",
    "from sklearn.linear_model import LinearRegression\n",
    "from sklearn.linear_model import LogisticRegression\n",
    "from sklearn.tree import DecisionTreeClassifier\n",
    "from sklearn.tree import export_graphviz\n",
    "from sklearn.metrics import classification_report\n",
    "from sklearn.metrics import confusion_matrix\n",
    "from sklearn.preprocessing import LabelEncoder, OneHotEncoder\n",
    "from sklearn.metrics import mean_squared_error, r2_score, explained_variance_score\n",
    "from sklearn.neighbors import KNeighborsClassifier\n",
    "\n",
    "from math import sqrt\n",
    "\n",
    "import matplotlib.pyplot as plt\n",
    "%matplotlib inline\n",
    "\n",
    "import seaborn as sns"
   ]
  },
  {
   "cell_type": "markdown",
   "metadata": {},
   "source": [
    "### Python programming for this analysis imported from associated text documents"
   ]
  },
  {
   "cell_type": "code",
   "execution_count": 2,
   "metadata": {},
   "outputs": [
    {
     "name": "stdout",
     "output_type": "stream",
     "text": [
      "  customer_id  gender  senior_citizen partner dependents  tenure  \\\n",
      "0  0002-ORFBO  Female               0     Yes        Yes       9   \n",
      "1  0003-MKNFE    Male               0      No         No       9   \n",
      "2  0004-TLHLJ    Male               0      No         No       4   \n",
      "3  0011-IGKFF    Male               1     Yes         No      13   \n",
      "4  0013-EXCHZ  Female               1     Yes         No       3   \n",
      "\n",
      "  phone_service multiple_lines internet_service_type_id online_security  ...  \\\n",
      "0           Yes             No                        1              No  ...   \n",
      "1           Yes            Yes                        1              No  ...   \n",
      "2           Yes             No                        2              No  ...   \n",
      "3           Yes             No                        2              No  ...   \n",
      "4           Yes             No                        2              No  ...   \n",
      "\n",
      "   payment_type_id monthly_charges total_charges churn contract_type_id  \\\n",
      "0                2            65.6         593.3    No                2   \n",
      "1                2            59.9         542.4    No                1   \n",
      "2                1            73.9        280.85   Yes                1   \n",
      "3                1            98.0       1237.85   Yes                1   \n",
      "4                2            83.9         267.4   Yes                1   \n",
      "\n",
      "    contract_type internet_service_type_id  internet_service_type  \\\n",
      "0        One year                        1                    DSL   \n",
      "1  Month-to-month                        1                    DSL   \n",
      "2  Month-to-month                        2            Fiber optic   \n",
      "3  Month-to-month                        2            Fiber optic   \n",
      "4  Month-to-month                        2            Fiber optic   \n",
      "\n",
      "   payment_type_id      payment_type  \n",
      "0                2      Mailed check  \n",
      "1                2      Mailed check  \n",
      "2                1  Electronic check  \n",
      "3                1  Electronic check  \n",
      "4                2      Mailed check  \n",
      "\n",
      "[5 rows x 27 columns]\n",
      "     customer_id  gender  senior_citizen partner dependents  tenure  \\\n",
      "6414  9987-LUTYD  Female               0      No         No      13   \n",
      "6415  9992-RRAMN    Male               0     Yes         No      22   \n",
      "6416  9992-UJOEL    Male               0      No         No       2   \n",
      "6417  9993-LHIEB    Male               0     Yes        Yes      67   \n",
      "6418  9995-HOTOH    Male               0     Yes        Yes      63   \n",
      "\n",
      "     phone_service    multiple_lines internet_service_type_id online_security  \\\n",
      "6414           Yes                No                        1             Yes   \n",
      "6415           Yes               Yes                        2              No   \n",
      "6416           Yes                No                        1              No   \n",
      "6417           Yes                No                        1             Yes   \n",
      "6418            No  No phone service                        1             Yes   \n",
      "\n",
      "      ...  payment_type_id monthly_charges total_charges churn  \\\n",
      "6414  ...                2           55.15         742.9    No   \n",
      "6415  ...                1           85.10        1873.7   Yes   \n",
      "6416  ...                2           50.30         92.75    No   \n",
      "6417  ...                2           67.85       4627.65    No   \n",
      "6418  ...                1           59.00        3707.6    No   \n",
      "\n",
      "     contract_type_id   contract_type internet_service_type_id  \\\n",
      "6414                2        One year                        1   \n",
      "6415                1  Month-to-month                        2   \n",
      "6416                1  Month-to-month                        1   \n",
      "6417                3        Two year                        1   \n",
      "6418                3        Two year                        1   \n",
      "\n",
      "      internet_service_type  payment_type_id      payment_type  \n",
      "6414                    DSL                2      Mailed check  \n",
      "6415            Fiber optic                1  Electronic check  \n",
      "6416                    DSL                2      Mailed check  \n",
      "6417                    DSL                2      Mailed check  \n",
      "6418                    DSL                1  Electronic check  \n",
      "\n",
      "[5 rows x 27 columns]\n",
      "     customer_id  gender  senior_citizen partner dependents  tenure  \\\n",
      "3277  5119-KEPFY    Male               0     Yes         No      36   \n",
      "5272  8152-VETUR  Female               0     Yes         No      72   \n",
      "3592  5561-NWEVX  Female               1     Yes         No       2   \n",
      "1315  2133-TSRRM  Female               0      No        Yes      34   \n",
      "2035  3200-MNQTF    Male               0     Yes         No      67   \n",
      "2544  3985-HOYPM    Male               0      No         No      26   \n",
      "5567  8652-YHIYU  Female               0      No        Yes      16   \n",
      "1463  2333-KWEWW    Male               0      No         No      18   \n",
      "1647  2639-UGMAZ    Male               1      No         No      71   \n",
      "3187  4967-WPNCF    Male               0      No         No      72   \n",
      "\n",
      "     phone_service    multiple_lines internet_service_type_id  \\\n",
      "3277           Yes               Yes                        2   \n",
      "5272           Yes               Yes                        2   \n",
      "3592           Yes               Yes                        2   \n",
      "1315           Yes                No                        2   \n",
      "2035           Yes               Yes                        1   \n",
      "2544           Yes                No                        3   \n",
      "5567           Yes               Yes                        2   \n",
      "1463           Yes                No                        3   \n",
      "1647            No  No phone service                        1   \n",
      "3187            No  No phone service                        1   \n",
      "\n",
      "          online_security  ...  payment_type_id monthly_charges total_charges  \\\n",
      "3277                   No  ...                3           95.00       3440.25   \n",
      "5272                   No  ...                4           97.70        6869.7   \n",
      "3592                   No  ...                1           79.20        172.85   \n",
      "1315                  Yes  ...                3          105.35        3688.6   \n",
      "2035                  Yes  ...                4           70.90        4677.1   \n",
      "2544  No internet service  ...                2           19.40        525.55   \n",
      "5567                   No  ...                4           79.50        1264.2   \n",
      "1463  No internet service  ...                4           20.05         388.6   \n",
      "1647                  Yes  ...                1           56.45       3985.35   \n",
      "3187                  Yes  ...                3           63.70        4464.8   \n",
      "\n",
      "     churn contract_type_id   contract_type internet_service_type_id  \\\n",
      "3277    No                1  Month-to-month                        2   \n",
      "5272    No                3        Two year                        2   \n",
      "3592   Yes                1  Month-to-month                        2   \n",
      "1315    No                1  Month-to-month                        2   \n",
      "2035    No                3        Two year                        1   \n",
      "2544    No                2        One year                        3   \n",
      "5567    No                2        One year                        2   \n",
      "1463    No                3        Two year                        3   \n",
      "1647    No                2        One year                        1   \n",
      "3187    No                3        Two year                        1   \n",
      "\n",
      "      internet_service_type  payment_type_id               payment_type  \n",
      "3277            Fiber optic                3  Bank transfer (automatic)  \n",
      "5272            Fiber optic                4    Credit card (automatic)  \n",
      "3592            Fiber optic                1           Electronic check  \n",
      "1315            Fiber optic                3  Bank transfer (automatic)  \n",
      "2035                    DSL                4    Credit card (automatic)  \n",
      "2544                   None                2               Mailed check  \n",
      "5567            Fiber optic                4    Credit card (automatic)  \n",
      "1463                   None                4    Credit card (automatic)  \n",
      "1647                    DSL                1           Electronic check  \n",
      "3187                    DSL                3  Bank transfer (automatic)  \n",
      "\n",
      "[10 rows x 27 columns]\n",
      "(6419, 27)\n",
      "       senior_citizen       tenure  internet_service_type_id  \\\n",
      "count     6419.000000  6419.000000               6419.000000   \n",
      "mean         0.164512    35.422496                  1.867581   \n",
      "std          0.370768    23.594602                  0.732694   \n",
      "min          0.000000     2.000000                  1.000000   \n",
      "25%          0.000000    13.000000                  1.000000   \n",
      "50%          0.000000    33.000000                  2.000000   \n",
      "75%          0.000000    58.000000                  2.000000   \n",
      "max          1.000000    72.000000                  3.000000   \n",
      "\n",
      "       contract_type_id  payment_type_id  monthly_charges  contract_type_id  \\\n",
      "count       6419.000000      6419.000000      6419.000000       6419.000000   \n",
      "mean           1.752609         2.375915        66.165010          1.752609   \n",
      "std            0.843018         1.160125        30.198406          0.843018   \n",
      "min            1.000000         1.000000        18.250000          1.000000   \n",
      "25%            1.000000         1.000000        39.650000          1.000000   \n",
      "50%            1.000000         2.000000        72.950000          1.000000   \n",
      "75%            3.000000         3.000000        90.800000          3.000000   \n",
      "max            3.000000         4.000000       118.750000          3.000000   \n",
      "\n",
      "       internet_service_type_id  payment_type_id  \n",
      "count               6419.000000      6419.000000  \n",
      "mean                   1.867581         2.375915  \n",
      "std                    0.732694         1.160125  \n",
      "min                    1.000000         1.000000  \n",
      "25%                    1.000000         1.000000  \n",
      "50%                    2.000000         2.000000  \n",
      "75%                    2.000000         3.000000  \n",
      "max                    3.000000         4.000000  \n",
      "<class 'pandas.core.frame.DataFrame'>\n",
      "RangeIndex: 6419 entries, 0 to 6418\n",
      "Data columns (total 27 columns):\n",
      "customer_id                 6419 non-null object\n",
      "gender                      6419 non-null object\n",
      "senior_citizen              6419 non-null int64\n",
      "partner                     6419 non-null object\n",
      "dependents                  6419 non-null object\n",
      "tenure                      6419 non-null int64\n",
      "phone_service               6419 non-null object\n",
      "multiple_lines              6419 non-null object\n",
      "internet_service_type_id    6419 non-null int64\n",
      "online_security             6419 non-null object\n",
      "online_backup               6419 non-null object\n",
      "device_protection           6419 non-null object\n",
      "tech_support                6419 non-null object\n",
      "streaming_tv                6419 non-null object\n",
      "streaming_movies            6419 non-null object\n",
      "contract_type_id            6419 non-null int64\n",
      "paperless_billing           6419 non-null object\n",
      "payment_type_id             6419 non-null int64\n",
      "monthly_charges             6419 non-null float64\n",
      "total_charges               6419 non-null object\n",
      "churn                       6419 non-null object\n",
      "contract_type_id            6419 non-null int64\n",
      "contract_type               6419 non-null object\n",
      "internet_service_type_id    6419 non-null int64\n",
      "internet_service_type       6419 non-null object\n",
      "payment_type_id             6419 non-null int64\n",
      "payment_type                6419 non-null object\n",
      "dtypes: float64(1), int64(8), object(18)\n",
      "memory usage: 1.3+ MB\n",
      "None\n"
     ]
    }
   ],
   "source": [
    "import env\n",
    "import wrangle_telco\n",
    "from telco_split_scale import *"
   ]
  },
  {
   "cell_type": "markdown",
   "metadata": {},
   "source": [
    "### Import prepared Telco data from the text editor to this notebook"
   ]
  },
  {
   "cell_type": "code",
   "execution_count": 3,
   "metadata": {},
   "outputs": [],
   "source": [
    "df = wrangle_telco.wrangle_telco()"
   ]
  },
  {
   "cell_type": "code",
   "execution_count": 4,
   "metadata": {},
   "outputs": [],
   "source": [
    "pd.set_option('display.max_columns', None) #prevents 'head' from truncating the number of columns"
   ]
  },
  {
   "cell_type": "code",
   "execution_count": 5,
   "metadata": {},
   "outputs": [
    {
     "data": {
      "text/html": [
       "<div>\n",
       "<style scoped>\n",
       "    .dataframe tbody tr th:only-of-type {\n",
       "        vertical-align: middle;\n",
       "    }\n",
       "\n",
       "    .dataframe tbody tr th {\n",
       "        vertical-align: top;\n",
       "    }\n",
       "\n",
       "    .dataframe thead th {\n",
       "        text-align: right;\n",
       "    }\n",
       "</style>\n",
       "<table border=\"1\" class=\"dataframe\">\n",
       "  <thead>\n",
       "    <tr style=\"text-align: right;\">\n",
       "      <th></th>\n",
       "      <th>customer_id</th>\n",
       "      <th>gender</th>\n",
       "      <th>senior_citizen</th>\n",
       "      <th>partner</th>\n",
       "      <th>dependents</th>\n",
       "      <th>tenure</th>\n",
       "      <th>phone_service</th>\n",
       "      <th>multiple_lines</th>\n",
       "      <th>internet_service_type_id</th>\n",
       "      <th>online_security</th>\n",
       "      <th>online_backup</th>\n",
       "      <th>device_protection</th>\n",
       "      <th>tech_support</th>\n",
       "      <th>streaming_tv</th>\n",
       "      <th>streaming_movies</th>\n",
       "      <th>contract_type_id</th>\n",
       "      <th>paperless_billing</th>\n",
       "      <th>payment_type_id</th>\n",
       "      <th>monthly_charges</th>\n",
       "      <th>total_charges</th>\n",
       "      <th>churn</th>\n",
       "      <th>contract_type_id</th>\n",
       "      <th>contract_type</th>\n",
       "      <th>internet_service_type_id</th>\n",
       "      <th>internet_service_type</th>\n",
       "      <th>payment_type_id</th>\n",
       "      <th>payment_type</th>\n",
       "    </tr>\n",
       "  </thead>\n",
       "  <tbody>\n",
       "    <tr>\n",
       "      <th>0</th>\n",
       "      <td>0002-ORFBO</td>\n",
       "      <td>Female</td>\n",
       "      <td>0</td>\n",
       "      <td>Yes</td>\n",
       "      <td>Yes</td>\n",
       "      <td>9</td>\n",
       "      <td>Yes</td>\n",
       "      <td>No</td>\n",
       "      <td>1</td>\n",
       "      <td>No</td>\n",
       "      <td>Yes</td>\n",
       "      <td>No</td>\n",
       "      <td>Yes</td>\n",
       "      <td>Yes</td>\n",
       "      <td>No</td>\n",
       "      <td>2</td>\n",
       "      <td>Yes</td>\n",
       "      <td>2</td>\n",
       "      <td>65.6</td>\n",
       "      <td>593.3</td>\n",
       "      <td>No</td>\n",
       "      <td>2</td>\n",
       "      <td>One year</td>\n",
       "      <td>1</td>\n",
       "      <td>DSL</td>\n",
       "      <td>2</td>\n",
       "      <td>Mailed check</td>\n",
       "    </tr>\n",
       "    <tr>\n",
       "      <th>1</th>\n",
       "      <td>0003-MKNFE</td>\n",
       "      <td>Male</td>\n",
       "      <td>0</td>\n",
       "      <td>No</td>\n",
       "      <td>No</td>\n",
       "      <td>9</td>\n",
       "      <td>Yes</td>\n",
       "      <td>Yes</td>\n",
       "      <td>1</td>\n",
       "      <td>No</td>\n",
       "      <td>No</td>\n",
       "      <td>No</td>\n",
       "      <td>No</td>\n",
       "      <td>No</td>\n",
       "      <td>Yes</td>\n",
       "      <td>1</td>\n",
       "      <td>No</td>\n",
       "      <td>2</td>\n",
       "      <td>59.9</td>\n",
       "      <td>542.4</td>\n",
       "      <td>No</td>\n",
       "      <td>1</td>\n",
       "      <td>Month-to-month</td>\n",
       "      <td>1</td>\n",
       "      <td>DSL</td>\n",
       "      <td>2</td>\n",
       "      <td>Mailed check</td>\n",
       "    </tr>\n",
       "    <tr>\n",
       "      <th>2</th>\n",
       "      <td>0004-TLHLJ</td>\n",
       "      <td>Male</td>\n",
       "      <td>0</td>\n",
       "      <td>No</td>\n",
       "      <td>No</td>\n",
       "      <td>4</td>\n",
       "      <td>Yes</td>\n",
       "      <td>No</td>\n",
       "      <td>2</td>\n",
       "      <td>No</td>\n",
       "      <td>No</td>\n",
       "      <td>Yes</td>\n",
       "      <td>No</td>\n",
       "      <td>No</td>\n",
       "      <td>No</td>\n",
       "      <td>1</td>\n",
       "      <td>Yes</td>\n",
       "      <td>1</td>\n",
       "      <td>73.9</td>\n",
       "      <td>280.85</td>\n",
       "      <td>Yes</td>\n",
       "      <td>1</td>\n",
       "      <td>Month-to-month</td>\n",
       "      <td>2</td>\n",
       "      <td>Fiber optic</td>\n",
       "      <td>1</td>\n",
       "      <td>Electronic check</td>\n",
       "    </tr>\n",
       "    <tr>\n",
       "      <th>3</th>\n",
       "      <td>0011-IGKFF</td>\n",
       "      <td>Male</td>\n",
       "      <td>1</td>\n",
       "      <td>Yes</td>\n",
       "      <td>No</td>\n",
       "      <td>13</td>\n",
       "      <td>Yes</td>\n",
       "      <td>No</td>\n",
       "      <td>2</td>\n",
       "      <td>No</td>\n",
       "      <td>Yes</td>\n",
       "      <td>Yes</td>\n",
       "      <td>No</td>\n",
       "      <td>Yes</td>\n",
       "      <td>Yes</td>\n",
       "      <td>1</td>\n",
       "      <td>Yes</td>\n",
       "      <td>1</td>\n",
       "      <td>98.0</td>\n",
       "      <td>1237.85</td>\n",
       "      <td>Yes</td>\n",
       "      <td>1</td>\n",
       "      <td>Month-to-month</td>\n",
       "      <td>2</td>\n",
       "      <td>Fiber optic</td>\n",
       "      <td>1</td>\n",
       "      <td>Electronic check</td>\n",
       "    </tr>\n",
       "    <tr>\n",
       "      <th>4</th>\n",
       "      <td>0013-EXCHZ</td>\n",
       "      <td>Female</td>\n",
       "      <td>1</td>\n",
       "      <td>Yes</td>\n",
       "      <td>No</td>\n",
       "      <td>3</td>\n",
       "      <td>Yes</td>\n",
       "      <td>No</td>\n",
       "      <td>2</td>\n",
       "      <td>No</td>\n",
       "      <td>No</td>\n",
       "      <td>No</td>\n",
       "      <td>Yes</td>\n",
       "      <td>Yes</td>\n",
       "      <td>No</td>\n",
       "      <td>1</td>\n",
       "      <td>Yes</td>\n",
       "      <td>2</td>\n",
       "      <td>83.9</td>\n",
       "      <td>267.4</td>\n",
       "      <td>Yes</td>\n",
       "      <td>1</td>\n",
       "      <td>Month-to-month</td>\n",
       "      <td>2</td>\n",
       "      <td>Fiber optic</td>\n",
       "      <td>2</td>\n",
       "      <td>Mailed check</td>\n",
       "    </tr>\n",
       "  </tbody>\n",
       "</table>\n",
       "</div>"
      ],
      "text/plain": [
       "  customer_id  gender  senior_citizen partner dependents  tenure  \\\n",
       "0  0002-ORFBO  Female               0     Yes        Yes       9   \n",
       "1  0003-MKNFE    Male               0      No         No       9   \n",
       "2  0004-TLHLJ    Male               0      No         No       4   \n",
       "3  0011-IGKFF    Male               1     Yes         No      13   \n",
       "4  0013-EXCHZ  Female               1     Yes         No       3   \n",
       "\n",
       "  phone_service multiple_lines  internet_service_type_id online_security  \\\n",
       "0           Yes             No                         1              No   \n",
       "1           Yes            Yes                         1              No   \n",
       "2           Yes             No                         2              No   \n",
       "3           Yes             No                         2              No   \n",
       "4           Yes             No                         2              No   \n",
       "\n",
       "  online_backup device_protection tech_support streaming_tv streaming_movies  \\\n",
       "0           Yes                No          Yes          Yes               No   \n",
       "1            No                No           No           No              Yes   \n",
       "2            No               Yes           No           No               No   \n",
       "3           Yes               Yes           No          Yes              Yes   \n",
       "4            No                No          Yes          Yes               No   \n",
       "\n",
       "   contract_type_id paperless_billing  payment_type_id  monthly_charges  \\\n",
       "0                 2               Yes                2             65.6   \n",
       "1                 1                No                2             59.9   \n",
       "2                 1               Yes                1             73.9   \n",
       "3                 1               Yes                1             98.0   \n",
       "4                 1               Yes                2             83.9   \n",
       "\n",
       "  total_charges churn  contract_type_id   contract_type  \\\n",
       "0         593.3    No                 2        One year   \n",
       "1         542.4    No                 1  Month-to-month   \n",
       "2        280.85   Yes                 1  Month-to-month   \n",
       "3       1237.85   Yes                 1  Month-to-month   \n",
       "4         267.4   Yes                 1  Month-to-month   \n",
       "\n",
       "   internet_service_type_id internet_service_type  payment_type_id  \\\n",
       "0                         1                   DSL                2   \n",
       "1                         1                   DSL                2   \n",
       "2                         2           Fiber optic                1   \n",
       "3                         2           Fiber optic                1   \n",
       "4                         2           Fiber optic                2   \n",
       "\n",
       "       payment_type  \n",
       "0      Mailed check  \n",
       "1      Mailed check  \n",
       "2  Electronic check  \n",
       "3  Electronic check  \n",
       "4      Mailed check  "
      ]
     },
     "execution_count": 5,
     "metadata": {},
     "output_type": "execute_result"
    }
   ],
   "source": [
    "df.head(5)"
   ]
  },
  {
   "cell_type": "markdown",
   "metadata": {},
   "source": [
    "## First glance at data to assess data structure changes needed before analysis"
   ]
  },
  {
   "cell_type": "code",
   "execution_count": 6,
   "metadata": {},
   "outputs": [
    {
     "name": "stdout",
     "output_type": "stream",
     "text": [
      "  customer_id  gender  senior_citizen partner dependents  tenure  \\\n",
      "0  0002-ORFBO  Female               0     Yes        Yes       9   \n",
      "1  0003-MKNFE    Male               0      No         No       9   \n",
      "2  0004-TLHLJ    Male               0      No         No       4   \n",
      "3  0011-IGKFF    Male               1     Yes         No      13   \n",
      "4  0013-EXCHZ  Female               1     Yes         No       3   \n",
      "\n",
      "  phone_service multiple_lines  internet_service_type_id online_security  \\\n",
      "0           Yes             No                         1              No   \n",
      "1           Yes            Yes                         1              No   \n",
      "2           Yes             No                         2              No   \n",
      "3           Yes             No                         2              No   \n",
      "4           Yes             No                         2              No   \n",
      "\n",
      "  online_backup device_protection tech_support streaming_tv streaming_movies  \\\n",
      "0           Yes                No          Yes          Yes               No   \n",
      "1            No                No           No           No              Yes   \n",
      "2            No               Yes           No           No               No   \n",
      "3           Yes               Yes           No          Yes              Yes   \n",
      "4            No                No          Yes          Yes               No   \n",
      "\n",
      "   contract_type_id paperless_billing  payment_type_id  monthly_charges  \\\n",
      "0                 2               Yes                2             65.6   \n",
      "1                 1                No                2             59.9   \n",
      "2                 1               Yes                1             73.9   \n",
      "3                 1               Yes                1             98.0   \n",
      "4                 1               Yes                2             83.9   \n",
      "\n",
      "  total_charges churn  contract_type_id   contract_type  \\\n",
      "0         593.3    No                 2        One year   \n",
      "1         542.4    No                 1  Month-to-month   \n",
      "2        280.85   Yes                 1  Month-to-month   \n",
      "3       1237.85   Yes                 1  Month-to-month   \n",
      "4         267.4   Yes                 1  Month-to-month   \n",
      "\n",
      "   internet_service_type_id internet_service_type  payment_type_id  \\\n",
      "0                         1                   DSL                2   \n",
      "1                         1                   DSL                2   \n",
      "2                         2           Fiber optic                1   \n",
      "3                         2           Fiber optic                1   \n",
      "4                         2           Fiber optic                2   \n",
      "\n",
      "       payment_type  \n",
      "0      Mailed check  \n",
      "1      Mailed check  \n",
      "2  Electronic check  \n",
      "3  Electronic check  \n",
      "4      Mailed check  \n",
      "     customer_id  gender  senior_citizen partner dependents  tenure  \\\n",
      "6414  9987-LUTYD  Female               0      No         No      13   \n",
      "6415  9992-RRAMN    Male               0     Yes         No      22   \n",
      "6416  9992-UJOEL    Male               0      No         No       2   \n",
      "6417  9993-LHIEB    Male               0     Yes        Yes      67   \n",
      "6418  9995-HOTOH    Male               0     Yes        Yes      63   \n",
      "\n",
      "     phone_service    multiple_lines  internet_service_type_id  \\\n",
      "6414           Yes                No                         1   \n",
      "6415           Yes               Yes                         2   \n",
      "6416           Yes                No                         1   \n",
      "6417           Yes                No                         1   \n",
      "6418            No  No phone service                         1   \n",
      "\n",
      "     online_security online_backup device_protection tech_support  \\\n",
      "6414             Yes            No                No          Yes   \n",
      "6415              No            No                No           No   \n",
      "6416              No           Yes                No           No   \n",
      "6417             Yes            No               Yes          Yes   \n",
      "6418             Yes           Yes               Yes           No   \n",
      "\n",
      "     streaming_tv streaming_movies  contract_type_id paperless_billing  \\\n",
      "6414           No               No                 2                No   \n",
      "6415           No              Yes                 1               Yes   \n",
      "6416           No               No                 1               Yes   \n",
      "6417           No              Yes                 3                No   \n",
      "6418          Yes              Yes                 3                No   \n",
      "\n",
      "      payment_type_id  monthly_charges total_charges churn  contract_type_id  \\\n",
      "6414                2            55.15         742.9    No                 2   \n",
      "6415                1            85.10        1873.7   Yes                 1   \n",
      "6416                2            50.30         92.75    No                 1   \n",
      "6417                2            67.85       4627.65    No                 3   \n",
      "6418                1            59.00        3707.6    No                 3   \n",
      "\n",
      "       contract_type  internet_service_type_id internet_service_type  \\\n",
      "6414        One year                         1                   DSL   \n",
      "6415  Month-to-month                         2           Fiber optic   \n",
      "6416  Month-to-month                         1                   DSL   \n",
      "6417        Two year                         1                   DSL   \n",
      "6418        Two year                         1                   DSL   \n",
      "\n",
      "      payment_type_id      payment_type  \n",
      "6414                2      Mailed check  \n",
      "6415                1  Electronic check  \n",
      "6416                2      Mailed check  \n",
      "6417                2      Mailed check  \n",
      "6418                1  Electronic check  \n",
      "     customer_id  gender  senior_citizen partner dependents  tenure  \\\n",
      "2892  4559-UWIHT    Male               0     Yes         No      14   \n",
      "1465  2338-BQEZT  Female               0      No         No      55   \n",
      "3243  5057-LCOUI  Female               0      No         No      39   \n",
      "5224  8080-POTJR  Female               0      No         No      30   \n",
      "2836  4476-OSWTN    Male               1     Yes         No      69   \n",
      "4945  7641-EUYET    Male               1     Yes        Yes      46   \n",
      "123   0224-HJAPT    Male               0      No         No       5   \n",
      "187   0315-LVCRK    Male               0      No         No      11   \n",
      "2510  3935-TBRZZ    Male               0     Yes        Yes      44   \n",
      "6129  9552-TGUZV    Male               0     Yes         No       8   \n",
      "\n",
      "     phone_service    multiple_lines  internet_service_type_id  \\\n",
      "2892           Yes               Yes                         2   \n",
      "1465           Yes                No                         1   \n",
      "3243            No  No phone service                         1   \n",
      "5224           Yes               Yes                         1   \n",
      "2836           Yes               Yes                         2   \n",
      "4945           Yes               Yes                         2   \n",
      "123            Yes               Yes                         1   \n",
      "187            Yes                No                         2   \n",
      "2510           Yes               Yes                         3   \n",
      "6129           Yes                No                         2   \n",
      "\n",
      "          online_security        online_backup    device_protection  \\\n",
      "2892                   No                  Yes                  Yes   \n",
      "1465                  Yes                   No                   No   \n",
      "3243                   No                   No                  Yes   \n",
      "5224                  Yes                   No                  Yes   \n",
      "2836                  Yes                   No                  Yes   \n",
      "4945                  Yes                  Yes                  Yes   \n",
      "123                    No                   No                   No   \n",
      "187                    No                   No                  Yes   \n",
      "2510  No internet service  No internet service  No internet service   \n",
      "6129                  Yes                   No                   No   \n",
      "\n",
      "             tech_support         streaming_tv     streaming_movies  \\\n",
      "2892                   No                   No                   No   \n",
      "1465                   No                   No                   No   \n",
      "3243                   No                  Yes                  Yes   \n",
      "5224                   No                  Yes                  Yes   \n",
      "2836                  Yes                  Yes                  Yes   \n",
      "4945                   No                  Yes                   No   \n",
      "123                    No                   No                   No   \n",
      "187                    No                   No                  Yes   \n",
      "2510  No internet service  No internet service  No internet service   \n",
      "6129                   No                   No                   No   \n",
      "\n",
      "      contract_type_id paperless_billing  payment_type_id  monthly_charges  \\\n",
      "2892                 1               Yes                1            82.65   \n",
      "1465                 1               Yes                4            50.55   \n",
      "3243                 1               Yes                1            50.75   \n",
      "5224                 2               Yes                4            79.30   \n",
      "2836                 2               Yes                2           110.55   \n",
      "4945                 1               Yes                1           100.70   \n",
      "123                  1                No                1            47.15   \n",
      "187                  1                No                1            84.80   \n",
      "2510                 2                No                2            25.70   \n",
      "6129                 1               Yes                2            75.00   \n",
      "\n",
      "     total_charges churn  contract_type_id   contract_type  \\\n",
      "2892          1185    No                 1  Month-to-month   \n",
      "1465       2832.75    No                 1  Month-to-month   \n",
      "3243        2011.4   Yes                 1  Month-to-month   \n",
      "5224        2427.1    No                 2        One year   \n",
      "2836        7610.1    No                 2        One year   \n",
      "4945        4541.2   Yes                 1  Month-to-month   \n",
      "123         223.15   Yes                 1  Month-to-month   \n",
      "187         888.75    No                 1  Month-to-month   \n",
      "2510        1110.5    No                 2        One year   \n",
      "6129         658.1    No                 1  Month-to-month   \n",
      "\n",
      "      internet_service_type_id internet_service_type  payment_type_id  \\\n",
      "2892                         2           Fiber optic                1   \n",
      "1465                         1                   DSL                4   \n",
      "3243                         1                   DSL                1   \n",
      "5224                         1                   DSL                4   \n",
      "2836                         2           Fiber optic                2   \n",
      "4945                         2           Fiber optic                1   \n",
      "123                          1                   DSL                1   \n",
      "187                          2           Fiber optic                1   \n",
      "2510                         3                  None                2   \n",
      "6129                         2           Fiber optic                2   \n",
      "\n",
      "                 payment_type  \n",
      "2892         Electronic check  \n",
      "1465  Credit card (automatic)  \n",
      "3243         Electronic check  \n",
      "5224  Credit card (automatic)  \n",
      "2836             Mailed check  \n",
      "4945         Electronic check  \n",
      "123          Electronic check  \n",
      "187          Electronic check  \n",
      "2510             Mailed check  \n",
      "6129             Mailed check  \n",
      "(6419, 27)\n",
      "       senior_citizen       tenure  internet_service_type_id  \\\n",
      "count     6419.000000  6419.000000               6419.000000   \n",
      "mean         0.164512    35.422496                  1.867581   \n",
      "std          0.370768    23.594602                  0.732694   \n",
      "min          0.000000     2.000000                  1.000000   \n",
      "25%          0.000000    13.000000                  1.000000   \n",
      "50%          0.000000    33.000000                  2.000000   \n",
      "75%          0.000000    58.000000                  2.000000   \n",
      "max          1.000000    72.000000                  3.000000   \n",
      "\n",
      "       contract_type_id  payment_type_id  monthly_charges  contract_type_id  \\\n",
      "count       6419.000000      6419.000000      6419.000000       6419.000000   \n",
      "mean           1.752609         2.375915        66.165010          1.752609   \n",
      "std            0.843018         1.160125        30.198406          0.843018   \n",
      "min            1.000000         1.000000        18.250000          1.000000   \n",
      "25%            1.000000         1.000000        39.650000          1.000000   \n",
      "50%            1.000000         2.000000        72.950000          1.000000   \n",
      "75%            3.000000         3.000000        90.800000          3.000000   \n",
      "max            3.000000         4.000000       118.750000          3.000000   \n",
      "\n",
      "       internet_service_type_id  payment_type_id  \n",
      "count               6419.000000      6419.000000  \n",
      "mean                   1.867581         2.375915  \n",
      "std                    0.732694         1.160125  \n",
      "min                    1.000000         1.000000  \n",
      "25%                    1.000000         1.000000  \n",
      "50%                    2.000000         2.000000  \n",
      "75%                    2.000000         3.000000  \n",
      "max                    3.000000         4.000000  \n",
      "<class 'pandas.core.frame.DataFrame'>\n",
      "RangeIndex: 6419 entries, 0 to 6418\n",
      "Data columns (total 27 columns):\n",
      "customer_id                 6419 non-null object\n",
      "gender                      6419 non-null object\n",
      "senior_citizen              6419 non-null int64\n",
      "partner                     6419 non-null object\n",
      "dependents                  6419 non-null object\n",
      "tenure                      6419 non-null int64\n",
      "phone_service               6419 non-null object\n",
      "multiple_lines              6419 non-null object\n",
      "internet_service_type_id    6419 non-null int64\n",
      "online_security             6419 non-null object\n",
      "online_backup               6419 non-null object\n",
      "device_protection           6419 non-null object\n",
      "tech_support                6419 non-null object\n",
      "streaming_tv                6419 non-null object\n",
      "streaming_movies            6419 non-null object\n",
      "contract_type_id            6419 non-null int64\n",
      "paperless_billing           6419 non-null object\n",
      "payment_type_id             6419 non-null int64\n",
      "monthly_charges             6419 non-null float64\n",
      "total_charges               6419 non-null object\n",
      "churn                       6419 non-null object\n",
      "contract_type_id            6419 non-null int64\n",
      "contract_type               6419 non-null object\n",
      "internet_service_type_id    6419 non-null int64\n",
      "internet_service_type       6419 non-null object\n",
      "payment_type_id             6419 non-null int64\n",
      "payment_type                6419 non-null object\n",
      "dtypes: float64(1), int64(8), object(18)\n",
      "memory usage: 1.3+ MB\n",
      "None\n"
     ]
    }
   ],
   "source": [
    "wrangle_telco.peekatdata(df)"
   ]
  },
  {
   "cell_type": "markdown",
   "metadata": {},
   "source": [
    "### Remove duplicate columns"
   ]
  },
  {
   "cell_type": "code",
   "execution_count": 7,
   "metadata": {},
   "outputs": [],
   "source": [
    "df = df.loc[:,~df.columns.duplicated()]"
   ]
  },
  {
   "cell_type": "code",
   "execution_count": 8,
   "metadata": {},
   "outputs": [
    {
     "name": "stdout",
     "output_type": "stream",
     "text": [
      "['customer_id', 'gender', 'senior_citizen', 'partner', 'dependents', 'tenure', 'phone_service', 'multiple_lines', 'internet_service_type_id', 'online_security', 'online_backup', 'device_protection', 'tech_support', 'streaming_tv', 'streaming_movies', 'contract_type_id', 'paperless_billing', 'payment_type_id', 'monthly_charges', 'total_charges', 'churn', 'contract_type', 'internet_service_type', 'payment_type'] "
     ]
    }
   ],
   "source": [
    "cols = df.columns.tolist() #3 columns used for data join have been eliminated\n",
    "print(cols, end = \" \")"
   ]
  },
  {
   "cell_type": "markdown",
   "metadata": {},
   "source": [
    "### Check for duplicate customer ID numbers"
   ]
  },
  {
   "cell_type": "code",
   "execution_count": 9,
   "metadata": {},
   "outputs": [
    {
     "data": {
      "text/html": [
       "<div>\n",
       "<style scoped>\n",
       "    .dataframe tbody tr th:only-of-type {\n",
       "        vertical-align: middle;\n",
       "    }\n",
       "\n",
       "    .dataframe tbody tr th {\n",
       "        vertical-align: top;\n",
       "    }\n",
       "\n",
       "    .dataframe thead th {\n",
       "        text-align: right;\n",
       "    }\n",
       "</style>\n",
       "<table border=\"1\" class=\"dataframe\">\n",
       "  <thead>\n",
       "    <tr style=\"text-align: right;\">\n",
       "      <th></th>\n",
       "      <th>customer_id</th>\n",
       "      <th>gender</th>\n",
       "      <th>senior_citizen</th>\n",
       "      <th>partner</th>\n",
       "      <th>dependents</th>\n",
       "      <th>tenure</th>\n",
       "      <th>phone_service</th>\n",
       "      <th>multiple_lines</th>\n",
       "      <th>internet_service_type_id</th>\n",
       "      <th>online_security</th>\n",
       "      <th>online_backup</th>\n",
       "      <th>device_protection</th>\n",
       "      <th>tech_support</th>\n",
       "      <th>streaming_tv</th>\n",
       "      <th>streaming_movies</th>\n",
       "      <th>contract_type_id</th>\n",
       "      <th>paperless_billing</th>\n",
       "      <th>payment_type_id</th>\n",
       "      <th>monthly_charges</th>\n",
       "      <th>total_charges</th>\n",
       "      <th>churn</th>\n",
       "      <th>contract_type</th>\n",
       "      <th>internet_service_type</th>\n",
       "      <th>payment_type</th>\n",
       "    </tr>\n",
       "  </thead>\n",
       "  <tbody>\n",
       "  </tbody>\n",
       "</table>\n",
       "</div>"
      ],
      "text/plain": [
       "Empty DataFrame\n",
       "Columns: [customer_id, gender, senior_citizen, partner, dependents, tenure, phone_service, multiple_lines, internet_service_type_id, online_security, online_backup, device_protection, tech_support, streaming_tv, streaming_movies, contract_type_id, paperless_billing, payment_type_id, monthly_charges, total_charges, churn, contract_type, internet_service_type, payment_type]\n",
       "Index: []"
      ]
     },
     "execution_count": 9,
     "metadata": {},
     "output_type": "execute_result"
    }
   ],
   "source": [
    "duplicateRowsDF = df[df.duplicated(['customer_id'])]\n",
    "duplicateRowsDF.head()"
   ]
  },
  {
   "cell_type": "markdown",
   "metadata": {},
   "source": [
    "### Reorder columns so ID number preceeds the description"
   ]
  },
  {
   "cell_type": "code",
   "execution_count": 10,
   "metadata": {},
   "outputs": [],
   "source": [
    "df = df[['customer_id',\n",
    " 'gender','senior_citizen','partner','dependents','tenure','phone_service','multiple_lines','internet_service_type_id',\\\n",
    "             'internet_service_type','online_security','online_backup','device_protection','tech_support',\\\n",
    "             'streaming_tv','streaming_movies','contract_type_id','contract_type', 'paperless_billing',\\\n",
    "             'payment_type_id','payment_type','monthly_charges','total_charges','churn']]"
   ]
  },
  {
   "cell_type": "markdown",
   "metadata": {},
   "source": [
    "### Convert yes/no and female/male variables to binary (0,1)"
   ]
  },
  {
   "cell_type": "code",
   "execution_count": 11,
   "metadata": {},
   "outputs": [],
   "source": [
    "df.replace(to_replace=['No', 'Yes'], value=[0, 1], inplace = True)"
   ]
  },
  {
   "cell_type": "code",
   "execution_count": 12,
   "metadata": {},
   "outputs": [],
   "source": [
    "df.replace(to_replace=['No phone service'], value=[0], inplace = True) #convert 'No phone service to 0'"
   ]
  },
  {
   "cell_type": "code",
   "execution_count": 13,
   "metadata": {},
   "outputs": [],
   "source": [
    "df.replace(to_replace=['Female', 'Male'], value=[0, 1], inplace = True)"
   ]
  },
  {
   "cell_type": "code",
   "execution_count": 14,
   "metadata": {},
   "outputs": [],
   "source": [
    "df.replace(to_replace=['No internet service'], value=[0], inplace = True)"
   ]
  },
  {
   "cell_type": "code",
   "execution_count": 15,
   "metadata": {},
   "outputs": [
    {
     "data": {
      "text/html": [
       "<div>\n",
       "<style scoped>\n",
       "    .dataframe tbody tr th:only-of-type {\n",
       "        vertical-align: middle;\n",
       "    }\n",
       "\n",
       "    .dataframe tbody tr th {\n",
       "        vertical-align: top;\n",
       "    }\n",
       "\n",
       "    .dataframe thead th {\n",
       "        text-align: right;\n",
       "    }\n",
       "</style>\n",
       "<table border=\"1\" class=\"dataframe\">\n",
       "  <thead>\n",
       "    <tr style=\"text-align: right;\">\n",
       "      <th></th>\n",
       "      <th>customer_id</th>\n",
       "      <th>gender</th>\n",
       "      <th>senior_citizen</th>\n",
       "      <th>partner</th>\n",
       "      <th>dependents</th>\n",
       "      <th>tenure</th>\n",
       "      <th>phone_service</th>\n",
       "      <th>multiple_lines</th>\n",
       "      <th>internet_service_type_id</th>\n",
       "      <th>internet_service_type</th>\n",
       "      <th>online_security</th>\n",
       "      <th>online_backup</th>\n",
       "      <th>device_protection</th>\n",
       "      <th>tech_support</th>\n",
       "      <th>streaming_tv</th>\n",
       "      <th>streaming_movies</th>\n",
       "      <th>contract_type_id</th>\n",
       "      <th>contract_type</th>\n",
       "      <th>paperless_billing</th>\n",
       "      <th>payment_type_id</th>\n",
       "      <th>payment_type</th>\n",
       "      <th>monthly_charges</th>\n",
       "      <th>total_charges</th>\n",
       "      <th>churn</th>\n",
       "    </tr>\n",
       "  </thead>\n",
       "  <tbody>\n",
       "    <tr>\n",
       "      <th>0</th>\n",
       "      <td>0002-ORFBO</td>\n",
       "      <td>0</td>\n",
       "      <td>0</td>\n",
       "      <td>1</td>\n",
       "      <td>1</td>\n",
       "      <td>9</td>\n",
       "      <td>1</td>\n",
       "      <td>0</td>\n",
       "      <td>1</td>\n",
       "      <td>DSL</td>\n",
       "      <td>0</td>\n",
       "      <td>1</td>\n",
       "      <td>0</td>\n",
       "      <td>1</td>\n",
       "      <td>1</td>\n",
       "      <td>0</td>\n",
       "      <td>2</td>\n",
       "      <td>One year</td>\n",
       "      <td>1</td>\n",
       "      <td>2</td>\n",
       "      <td>Mailed check</td>\n",
       "      <td>65.6</td>\n",
       "      <td>593.3</td>\n",
       "      <td>0</td>\n",
       "    </tr>\n",
       "    <tr>\n",
       "      <th>1</th>\n",
       "      <td>0003-MKNFE</td>\n",
       "      <td>1</td>\n",
       "      <td>0</td>\n",
       "      <td>0</td>\n",
       "      <td>0</td>\n",
       "      <td>9</td>\n",
       "      <td>1</td>\n",
       "      <td>1</td>\n",
       "      <td>1</td>\n",
       "      <td>DSL</td>\n",
       "      <td>0</td>\n",
       "      <td>0</td>\n",
       "      <td>0</td>\n",
       "      <td>0</td>\n",
       "      <td>0</td>\n",
       "      <td>1</td>\n",
       "      <td>1</td>\n",
       "      <td>Month-to-month</td>\n",
       "      <td>0</td>\n",
       "      <td>2</td>\n",
       "      <td>Mailed check</td>\n",
       "      <td>59.9</td>\n",
       "      <td>542.4</td>\n",
       "      <td>0</td>\n",
       "    </tr>\n",
       "    <tr>\n",
       "      <th>2</th>\n",
       "      <td>0004-TLHLJ</td>\n",
       "      <td>1</td>\n",
       "      <td>0</td>\n",
       "      <td>0</td>\n",
       "      <td>0</td>\n",
       "      <td>4</td>\n",
       "      <td>1</td>\n",
       "      <td>0</td>\n",
       "      <td>2</td>\n",
       "      <td>Fiber optic</td>\n",
       "      <td>0</td>\n",
       "      <td>0</td>\n",
       "      <td>1</td>\n",
       "      <td>0</td>\n",
       "      <td>0</td>\n",
       "      <td>0</td>\n",
       "      <td>1</td>\n",
       "      <td>Month-to-month</td>\n",
       "      <td>1</td>\n",
       "      <td>1</td>\n",
       "      <td>Electronic check</td>\n",
       "      <td>73.9</td>\n",
       "      <td>280.85</td>\n",
       "      <td>1</td>\n",
       "    </tr>\n",
       "    <tr>\n",
       "      <th>3</th>\n",
       "      <td>0011-IGKFF</td>\n",
       "      <td>1</td>\n",
       "      <td>1</td>\n",
       "      <td>1</td>\n",
       "      <td>0</td>\n",
       "      <td>13</td>\n",
       "      <td>1</td>\n",
       "      <td>0</td>\n",
       "      <td>2</td>\n",
       "      <td>Fiber optic</td>\n",
       "      <td>0</td>\n",
       "      <td>1</td>\n",
       "      <td>1</td>\n",
       "      <td>0</td>\n",
       "      <td>1</td>\n",
       "      <td>1</td>\n",
       "      <td>1</td>\n",
       "      <td>Month-to-month</td>\n",
       "      <td>1</td>\n",
       "      <td>1</td>\n",
       "      <td>Electronic check</td>\n",
       "      <td>98.0</td>\n",
       "      <td>1237.85</td>\n",
       "      <td>1</td>\n",
       "    </tr>\n",
       "    <tr>\n",
       "      <th>4</th>\n",
       "      <td>0013-EXCHZ</td>\n",
       "      <td>0</td>\n",
       "      <td>1</td>\n",
       "      <td>1</td>\n",
       "      <td>0</td>\n",
       "      <td>3</td>\n",
       "      <td>1</td>\n",
       "      <td>0</td>\n",
       "      <td>2</td>\n",
       "      <td>Fiber optic</td>\n",
       "      <td>0</td>\n",
       "      <td>0</td>\n",
       "      <td>0</td>\n",
       "      <td>1</td>\n",
       "      <td>1</td>\n",
       "      <td>0</td>\n",
       "      <td>1</td>\n",
       "      <td>Month-to-month</td>\n",
       "      <td>1</td>\n",
       "      <td>2</td>\n",
       "      <td>Mailed check</td>\n",
       "      <td>83.9</td>\n",
       "      <td>267.4</td>\n",
       "      <td>1</td>\n",
       "    </tr>\n",
       "  </tbody>\n",
       "</table>\n",
       "</div>"
      ],
      "text/plain": [
       "  customer_id  gender  senior_citizen  partner  dependents  tenure  \\\n",
       "0  0002-ORFBO       0               0        1           1       9   \n",
       "1  0003-MKNFE       1               0        0           0       9   \n",
       "2  0004-TLHLJ       1               0        0           0       4   \n",
       "3  0011-IGKFF       1               1        1           0      13   \n",
       "4  0013-EXCHZ       0               1        1           0       3   \n",
       "\n",
       "   phone_service  multiple_lines  internet_service_type_id  \\\n",
       "0              1               0                         1   \n",
       "1              1               1                         1   \n",
       "2              1               0                         2   \n",
       "3              1               0                         2   \n",
       "4              1               0                         2   \n",
       "\n",
       "  internet_service_type  online_security  online_backup  device_protection  \\\n",
       "0                   DSL                0              1                  0   \n",
       "1                   DSL                0              0                  0   \n",
       "2           Fiber optic                0              0                  1   \n",
       "3           Fiber optic                0              1                  1   \n",
       "4           Fiber optic                0              0                  0   \n",
       "\n",
       "   tech_support  streaming_tv  streaming_movies  contract_type_id  \\\n",
       "0             1             1                 0                 2   \n",
       "1             0             0                 1                 1   \n",
       "2             0             0                 0                 1   \n",
       "3             0             1                 1                 1   \n",
       "4             1             1                 0                 1   \n",
       "\n",
       "    contract_type  paperless_billing  payment_type_id      payment_type  \\\n",
       "0        One year                  1                2      Mailed check   \n",
       "1  Month-to-month                  0                2      Mailed check   \n",
       "2  Month-to-month                  1                1  Electronic check   \n",
       "3  Month-to-month                  1                1  Electronic check   \n",
       "4  Month-to-month                  1                2      Mailed check   \n",
       "\n",
       "   monthly_charges total_charges  churn  \n",
       "0             65.6         593.3      0  \n",
       "1             59.9         542.4      0  \n",
       "2             73.9        280.85      1  \n",
       "3             98.0       1237.85      1  \n",
       "4             83.9         267.4      1  "
      ]
     },
     "execution_count": 15,
     "metadata": {},
     "output_type": "execute_result"
    }
   ],
   "source": [
    "df.head()"
   ]
  },
  {
   "cell_type": "markdown",
   "metadata": {},
   "source": [
    "### Remove null values - all null values removed in MySQL"
   ]
  },
  {
   "cell_type": "markdown",
   "metadata": {},
   "source": [
    "### Data types adjusted to best suit each variable "
   ]
  },
  {
   "cell_type": "code",
   "execution_count": 16,
   "metadata": {},
   "outputs": [],
   "source": [
    "df['total_charges'] = pd.to_numeric(df['total_charges'], errors='coerce')"
   ]
  },
  {
   "cell_type": "code",
   "execution_count": 17,
   "metadata": {},
   "outputs": [
    {
     "name": "stdout",
     "output_type": "stream",
     "text": [
      "<class 'pandas.core.frame.DataFrame'>\n",
      "RangeIndex: 6419 entries, 0 to 6418\n",
      "Data columns (total 24 columns):\n",
      "customer_id                 6419 non-null object\n",
      "gender                      6419 non-null int64\n",
      "senior_citizen              6419 non-null int64\n",
      "partner                     6419 non-null int64\n",
      "dependents                  6419 non-null int64\n",
      "tenure                      6419 non-null int64\n",
      "phone_service               6419 non-null int64\n",
      "multiple_lines              6419 non-null int64\n",
      "internet_service_type_id    6419 non-null int64\n",
      "internet_service_type       6419 non-null object\n",
      "online_security             6419 non-null int64\n",
      "online_backup               6419 non-null int64\n",
      "device_protection           6419 non-null int64\n",
      "tech_support                6419 non-null int64\n",
      "streaming_tv                6419 non-null int64\n",
      "streaming_movies            6419 non-null int64\n",
      "contract_type_id            6419 non-null int64\n",
      "contract_type               6419 non-null object\n",
      "paperless_billing           6419 non-null int64\n",
      "payment_type_id             6419 non-null int64\n",
      "payment_type                6419 non-null object\n",
      "monthly_charges             6419 non-null float64\n",
      "total_charges               6419 non-null float64\n",
      "churn                       6419 non-null int64\n",
      "dtypes: float64(2), int64(18), object(4)\n",
      "memory usage: 1.2+ MB\n"
     ]
    }
   ],
   "source": [
    "df.info()"
   ]
  },
  {
   "cell_type": "code",
   "execution_count": null,
   "metadata": {},
   "outputs": [],
   "source": []
  },
  {
   "cell_type": "markdown",
   "metadata": {},
   "source": [
    "## Predictive model 1: using all numeric variables"
   ]
  },
  {
   "cell_type": "markdown",
   "metadata": {},
   "source": [
    "### Split data"
   ]
  },
  {
   "cell_type": "code",
   "execution_count": 18,
   "metadata": {},
   "outputs": [],
   "source": [
    "X = df.drop(columns=['churn', 'customer_id', 'internet_service_type', 'contract_type', 'payment_type'])\n",
    "y = pd.DataFrame(df['churn'])"
   ]
  },
  {
   "cell_type": "code",
   "execution_count": 19,
   "metadata": {},
   "outputs": [],
   "source": [
    "df_t = split_my_data(X, y)"
   ]
  },
  {
   "cell_type": "code",
   "execution_count": 20,
   "metadata": {},
   "outputs": [
    {
     "data": {
      "text/plain": [
       "churn    int64\n",
       "dtype: object"
      ]
     },
     "execution_count": 20,
     "metadata": {},
     "output_type": "execute_result"
    }
   ],
   "source": [
    "X_train, X_test, y_train, y_test = split_my_data(X,y)\n",
    "y_train.dtypes"
   ]
  },
  {
   "cell_type": "markdown",
   "metadata": {},
   "source": [
    "### Decision tree model"
   ]
  },
  {
   "cell_type": "code",
   "execution_count": 21,
   "metadata": {},
   "outputs": [
    {
     "data": {
      "text/plain": [
       "DecisionTreeClassifier(class_weight=None, criterion='gini', max_depth=6,\n",
       "                       max_features=None, max_leaf_nodes=None,\n",
       "                       min_impurity_decrease=0.0, min_impurity_split=None,\n",
       "                       min_samples_leaf=1, min_samples_split=2,\n",
       "                       min_weight_fraction_leaf=0.0, presort=False,\n",
       "                       random_state=123, splitter='best')"
      ]
     },
     "execution_count": 21,
     "metadata": {},
     "output_type": "execute_result"
    }
   ],
   "source": [
    "clf = DecisionTreeClassifier(criterion='gini', max_depth=6, random_state=123)\n",
    "clf.fit(X_train, y_train)"
   ]
  },
  {
   "cell_type": "code",
   "execution_count": 22,
   "metadata": {},
   "outputs": [],
   "source": [
    "y_pred = clf.predict(X_train)\n",
    "\n",
    "y_pred_proba = clf.predict_proba(X_train)"
   ]
  },
  {
   "cell_type": "code",
   "execution_count": 23,
   "metadata": {},
   "outputs": [
    {
     "name": "stdout",
     "output_type": "stream",
     "text": [
      "Accuracy of Decision Tree classifier on training set: 0.82\n"
     ]
    }
   ],
   "source": [
    "print('Accuracy of Decision Tree classifier on training set: {:.2f}'\n",
    "     .format(clf.score(X_train, y_train)))"
   ]
  },
  {
   "cell_type": "markdown",
   "metadata": {},
   "source": [
    "Interpreting a classification report\n",
    "\n",
    "Precision: the higher this number is, the more you were able to pinpoint all positives correctly. If this is a low score, you predicted a lot of positives where there were none. tp / (tp + fp)\n",
    "\n",
    "Recall: if this score is high, you didn’t miss a lot of positives. But as it gets lower, you are not predicting the positives that are actually there. tp / (tp + fn)\n",
    "\n",
    "f1-score: The balanced harmonic mean of Recall and Precision, giving both metrics equal weight. The higher the F-Measure is, the better.\n",
    "\n",
    "Support: number of occurrences of each class in where y is true.\n",
    "\n",
    "0 = Not churn\n",
    "\n",
    "1 = Churn\n"
   ]
  },
  {
   "cell_type": "code",
   "execution_count": 24,
   "metadata": {
    "scrolled": true
   },
   "outputs": [
    {
     "name": "stdout",
     "output_type": "stream",
     "text": [
      "              precision    recall  f1-score   support\n",
      "\n",
      "           0       0.87      0.90      0.89      3447\n",
      "           1       0.63      0.58      0.60      1046\n",
      "\n",
      "    accuracy                           0.82      4493\n",
      "   macro avg       0.75      0.74      0.74      4493\n",
      "weighted avg       0.82      0.82      0.82      4493\n",
      "\n"
     ]
    }
   ],
   "source": [
    "print(classification_report(y_train, y_pred))"
   ]
  },
  {
   "cell_type": "markdown",
   "metadata": {},
   "source": [
    "### ***High recall of 'not churn' indicates that the model did find most of the people who did not churn. The low recall for 'churn' indicates that the model did not do a good job of finding people who churned.***"
   ]
  },
  {
   "cell_type": "code",
   "execution_count": 25,
   "metadata": {},
   "outputs": [
    {
     "name": "stdout",
     "output_type": "stream",
     "text": [
      "True negative \n",
      " 0     602\n",
      "1    3096\n",
      "dtype: int64 \n",
      "\n",
      "True positive rate (Sensitivity/Recall) \n",
      " 0    0.898172\n",
      "1    0.575526\n",
      "dtype: float64 \n",
      "\n",
      "True negative rate (Specificity) \n",
      " 0    0.575526\n",
      "1    0.898172\n",
      "dtype: float64 \n",
      "\n",
      "Positive predictive value (Precision) \n",
      " 0    0.874576\n",
      "1    0.631689\n",
      "dtype: float64 \n",
      "\n",
      "Negative predictive value \n",
      " 0    0.631689\n",
      "1    0.874576\n",
      "dtype: float64 \n",
      "\n",
      "False positive rate \n",
      " 0    0.424474\n",
      "1    0.101828\n",
      "dtype: float64 \n",
      "\n",
      "False negative rate \n",
      " 0    0.101828\n",
      "1    0.424474\n",
      "dtype: float64 \n",
      "\n",
      "False discovery rate \n",
      " 0    0.125424\n",
      "1    0.368311\n",
      "dtype: float64 \n",
      "\n",
      "Overall accuracy \n",
      " 0    0.823058\n",
      "1    0.823058\n",
      "dtype: float64\n"
     ]
    }
   ],
   "source": [
    "cm = pd.DataFrame(confusion_matrix(y_train, y_pred))\n",
    "FP = cm.sum(axis=0) - np.diag(cm)  \n",
    "FN = cm.sum(axis=1) - np.diag(cm)\n",
    "TP = np.diag(cm)\n",
    "TN = cm.values.sum() - (FP + FN + TP)\n",
    "print ('True negative', '\\n', TN, '\\n')\n",
    "# Sensitivity, hit rate, recall, or true positive rate\n",
    "TPR = TP/(TP+FN)\n",
    "print ('True positive rate (Sensitivity/Recall)', '\\n', TPR, '\\n')\n",
    "# Specificity or true negative rate\n",
    "TNR = TN/(TN+FP) \n",
    "print ('True negative rate (Specificity)', '\\n', TNR, '\\n')\n",
    "# Precision or positive predictive value\n",
    "PPV = TP/(TP+FP)\n",
    "print ('Positive predictive value (Precision)', '\\n', PPV, '\\n')\n",
    "# Negative predictive value\n",
    "NPV = TN/(TN+FN)\n",
    "print ('Negative predictive value', '\\n', NPV, '\\n')\n",
    "# Fall out or false positive rate\n",
    "FPR = FP/(FP+TN)\n",
    "print ('False positive rate', '\\n', FPR, '\\n')\n",
    "# False negative rate\n",
    "FNR = FN/(TP+FN)\n",
    "print ('False negative rate', '\\n', FNR, '\\n')\n",
    "# False discovery rate\n",
    "FDR = FP/(TP+FP)\n",
    "print ('False discovery rate \\n' , FDR, '\\n')\n",
    "# Overall accuracy\n",
    "ACC = (TP+TN)/(TP+FP+FN+TN)\n",
    "print('Overall accuracy', '\\n', ACC)"
   ]
  },
  {
   "cell_type": "markdown",
   "metadata": {},
   "source": [
    " "
   ]
  },
  {
   "cell_type": "markdown",
   "metadata": {},
   "source": [
    "### How do the dependent variables correlate with each other?"
   ]
  },
  {
   "cell_type": "code",
   "execution_count": 26,
   "metadata": {},
   "outputs": [
    {
     "data": {
      "text/html": [
       "<div>\n",
       "<style scoped>\n",
       "    .dataframe tbody tr th:only-of-type {\n",
       "        vertical-align: middle;\n",
       "    }\n",
       "\n",
       "    .dataframe tbody tr th {\n",
       "        vertical-align: top;\n",
       "    }\n",
       "\n",
       "    .dataframe thead th {\n",
       "        text-align: right;\n",
       "    }\n",
       "</style>\n",
       "<table border=\"1\" class=\"dataframe\">\n",
       "  <thead>\n",
       "    <tr style=\"text-align: right;\">\n",
       "      <th></th>\n",
       "      <th>gender</th>\n",
       "      <th>senior_citizen</th>\n",
       "      <th>partner</th>\n",
       "      <th>dependents</th>\n",
       "      <th>tenure</th>\n",
       "      <th>phone_service</th>\n",
       "      <th>multiple_lines</th>\n",
       "      <th>internet_service_type_id</th>\n",
       "      <th>online_security</th>\n",
       "      <th>online_backup</th>\n",
       "      <th>device_protection</th>\n",
       "      <th>tech_support</th>\n",
       "      <th>streaming_tv</th>\n",
       "      <th>streaming_movies</th>\n",
       "      <th>contract_type_id</th>\n",
       "      <th>paperless_billing</th>\n",
       "      <th>payment_type_id</th>\n",
       "      <th>monthly_charges</th>\n",
       "      <th>total_charges</th>\n",
       "    </tr>\n",
       "  </thead>\n",
       "  <tbody>\n",
       "    <tr>\n",
       "      <th>gender</th>\n",
       "      <td>1.000000</td>\n",
       "      <td>0.003584</td>\n",
       "      <td>0.004652</td>\n",
       "      <td>0.009307</td>\n",
       "      <td>0.014675</td>\n",
       "      <td>-0.014882</td>\n",
       "      <td>-0.015659</td>\n",
       "      <td>-0.002717</td>\n",
       "      <td>-0.007484</td>\n",
       "      <td>-0.005784</td>\n",
       "      <td>-0.004262</td>\n",
       "      <td>-0.011959</td>\n",
       "      <td>0.008118</td>\n",
       "      <td>-0.006170</td>\n",
       "      <td>0.013381</td>\n",
       "      <td>-0.002722</td>\n",
       "      <td>-0.003791</td>\n",
       "      <td>-0.015025</td>\n",
       "      <td>0.003468</td>\n",
       "    </tr>\n",
       "    <tr>\n",
       "      <th>senior_citizen</th>\n",
       "      <td>0.003584</td>\n",
       "      <td>1.000000</td>\n",
       "      <td>0.009682</td>\n",
       "      <td>-0.212576</td>\n",
       "      <td>0.016692</td>\n",
       "      <td>0.002589</td>\n",
       "      <td>0.134480</td>\n",
       "      <td>-0.033367</td>\n",
       "      <td>-0.020438</td>\n",
       "      <td>0.077933</td>\n",
       "      <td>0.070964</td>\n",
       "      <td>-0.076350</td>\n",
       "      <td>0.105673</td>\n",
       "      <td>0.132922</td>\n",
       "      <td>-0.149383</td>\n",
       "      <td>0.150091</td>\n",
       "      <td>-0.079899</td>\n",
       "      <td>0.221857</td>\n",
       "      <td>0.115027</td>\n",
       "    </tr>\n",
       "    <tr>\n",
       "      <th>partner</th>\n",
       "      <td>0.004652</td>\n",
       "      <td>0.009682</td>\n",
       "      <td>1.000000</td>\n",
       "      <td>0.453003</td>\n",
       "      <td>0.341563</td>\n",
       "      <td>0.024808</td>\n",
       "      <td>0.127003</td>\n",
       "      <td>0.002149</td>\n",
       "      <td>0.114377</td>\n",
       "      <td>0.117264</td>\n",
       "      <td>0.134881</td>\n",
       "      <td>0.099651</td>\n",
       "      <td>0.106774</td>\n",
       "      <td>0.102940</td>\n",
       "      <td>0.267815</td>\n",
       "      <td>-0.008842</td>\n",
       "      <td>0.105831</td>\n",
       "      <td>0.075762</td>\n",
       "      <td>0.287870</td>\n",
       "    </tr>\n",
       "    <tr>\n",
       "      <th>dependents</th>\n",
       "      <td>0.009307</td>\n",
       "      <td>-0.212576</td>\n",
       "      <td>0.453003</td>\n",
       "      <td>1.000000</td>\n",
       "      <td>0.156847</td>\n",
       "      <td>0.001725</td>\n",
       "      <td>-0.023402</td>\n",
       "      <td>0.029418</td>\n",
       "      <td>0.070485</td>\n",
       "      <td>0.023145</td>\n",
       "      <td>0.008039</td>\n",
       "      <td>0.074918</td>\n",
       "      <td>-0.019338</td>\n",
       "      <td>-0.040399</td>\n",
       "      <td>0.239965</td>\n",
       "      <td>-0.103399</td>\n",
       "      <td>0.112733</td>\n",
       "      <td>-0.112489</td>\n",
       "      <td>0.061651</td>\n",
       "    </tr>\n",
       "    <tr>\n",
       "      <th>tenure</th>\n",
       "      <td>0.014675</td>\n",
       "      <td>0.016692</td>\n",
       "      <td>0.341563</td>\n",
       "      <td>0.156847</td>\n",
       "      <td>1.000000</td>\n",
       "      <td>-0.000510</td>\n",
       "      <td>0.283372</td>\n",
       "      <td>-0.017539</td>\n",
       "      <td>0.293015</td>\n",
       "      <td>0.332351</td>\n",
       "      <td>0.319115</td>\n",
       "      <td>0.290696</td>\n",
       "      <td>0.234957</td>\n",
       "      <td>0.236341</td>\n",
       "      <td>0.649711</td>\n",
       "      <td>-0.001953</td>\n",
       "      <td>0.308017</td>\n",
       "      <td>0.199799</td>\n",
       "      <td>0.803391</td>\n",
       "    </tr>\n",
       "    <tr>\n",
       "      <th>phone_service</th>\n",
       "      <td>-0.014882</td>\n",
       "      <td>0.002589</td>\n",
       "      <td>0.024808</td>\n",
       "      <td>0.001725</td>\n",
       "      <td>-0.000510</td>\n",
       "      <td>1.000000</td>\n",
       "      <td>0.296823</td>\n",
       "      <td>0.385638</td>\n",
       "      <td>-0.087501</td>\n",
       "      <td>-0.062604</td>\n",
       "      <td>-0.071891</td>\n",
       "      <td>-0.103504</td>\n",
       "      <td>-0.031950</td>\n",
       "      <td>-0.038084</td>\n",
       "      <td>-0.002822</td>\n",
       "      <td>0.006599</td>\n",
       "      <td>-0.002819</td>\n",
       "      <td>0.246464</td>\n",
       "      <td>0.116499</td>\n",
       "    </tr>\n",
       "    <tr>\n",
       "      <th>multiple_lines</th>\n",
       "      <td>-0.015659</td>\n",
       "      <td>0.134480</td>\n",
       "      <td>0.127003</td>\n",
       "      <td>-0.023402</td>\n",
       "      <td>0.283372</td>\n",
       "      <td>0.296823</td>\n",
       "      <td>1.000000</td>\n",
       "      <td>0.018334</td>\n",
       "      <td>0.068684</td>\n",
       "      <td>0.184223</td>\n",
       "      <td>0.177840</td>\n",
       "      <td>0.064959</td>\n",
       "      <td>0.235281</td>\n",
       "      <td>0.230023</td>\n",
       "      <td>0.054694</td>\n",
       "      <td>0.163105</td>\n",
       "      <td>0.008863</td>\n",
       "      <td>0.481816</td>\n",
       "      <td>0.442592</td>\n",
       "    </tr>\n",
       "    <tr>\n",
       "      <th>internet_service_type_id</th>\n",
       "      <td>-0.002717</td>\n",
       "      <td>-0.033367</td>\n",
       "      <td>0.002149</td>\n",
       "      <td>0.029418</td>\n",
       "      <td>-0.017539</td>\n",
       "      <td>0.385638</td>\n",
       "      <td>0.018334</td>\n",
       "      <td>1.000000</td>\n",
       "      <td>-0.405947</td>\n",
       "      <td>-0.331759</td>\n",
       "      <td>-0.310153</td>\n",
       "      <td>-0.407688</td>\n",
       "      <td>-0.252589</td>\n",
       "      <td>-0.263008</td>\n",
       "      <td>0.120480</td>\n",
       "      <td>-0.144582</td>\n",
       "      <td>-0.001401</td>\n",
       "      <td>-0.326522</td>\n",
       "      <td>-0.185600</td>\n",
       "    </tr>\n",
       "    <tr>\n",
       "      <th>online_security</th>\n",
       "      <td>-0.007484</td>\n",
       "      <td>-0.020438</td>\n",
       "      <td>0.114377</td>\n",
       "      <td>0.070485</td>\n",
       "      <td>0.293015</td>\n",
       "      <td>-0.087501</td>\n",
       "      <td>0.068684</td>\n",
       "      <td>-0.405947</td>\n",
       "      <td>1.000000</td>\n",
       "      <td>0.261240</td>\n",
       "      <td>0.255637</td>\n",
       "      <td>0.345977</td>\n",
       "      <td>0.151307</td>\n",
       "      <td>0.154393</td>\n",
       "      <td>0.210551</td>\n",
       "      <td>0.001575</td>\n",
       "      <td>0.157472</td>\n",
       "      <td>0.285630</td>\n",
       "      <td>0.389213</td>\n",
       "    </tr>\n",
       "    <tr>\n",
       "      <th>online_backup</th>\n",
       "      <td>-0.005784</td>\n",
       "      <td>0.077933</td>\n",
       "      <td>0.117264</td>\n",
       "      <td>0.023145</td>\n",
       "      <td>0.332351</td>\n",
       "      <td>-0.062604</td>\n",
       "      <td>0.184223</td>\n",
       "      <td>-0.331759</td>\n",
       "      <td>0.261240</td>\n",
       "      <td>1.000000</td>\n",
       "      <td>0.289069</td>\n",
       "      <td>0.282276</td>\n",
       "      <td>0.279839</td>\n",
       "      <td>0.271144</td>\n",
       "      <td>0.114883</td>\n",
       "      <td>0.140723</td>\n",
       "      <td>0.077145</td>\n",
       "      <td>0.440393</td>\n",
       "      <td>0.501592</td>\n",
       "    </tr>\n",
       "    <tr>\n",
       "      <th>device_protection</th>\n",
       "      <td>-0.004262</td>\n",
       "      <td>0.070964</td>\n",
       "      <td>0.134881</td>\n",
       "      <td>0.008039</td>\n",
       "      <td>0.319115</td>\n",
       "      <td>-0.071891</td>\n",
       "      <td>0.177840</td>\n",
       "      <td>-0.310153</td>\n",
       "      <td>0.255637</td>\n",
       "      <td>0.289069</td>\n",
       "      <td>1.000000</td>\n",
       "      <td>0.303812</td>\n",
       "      <td>0.379038</td>\n",
       "      <td>0.403982</td>\n",
       "      <td>0.176169</td>\n",
       "      <td>0.112193</td>\n",
       "      <td>0.083637</td>\n",
       "      <td>0.486253</td>\n",
       "      <td>0.505125</td>\n",
       "    </tr>\n",
       "    <tr>\n",
       "      <th>tech_support</th>\n",
       "      <td>-0.011959</td>\n",
       "      <td>-0.076350</td>\n",
       "      <td>0.099651</td>\n",
       "      <td>0.074918</td>\n",
       "      <td>0.290696</td>\n",
       "      <td>-0.103504</td>\n",
       "      <td>0.064959</td>\n",
       "      <td>-0.407688</td>\n",
       "      <td>0.345977</td>\n",
       "      <td>0.282276</td>\n",
       "      <td>0.303812</td>\n",
       "      <td>1.000000</td>\n",
       "      <td>0.253208</td>\n",
       "      <td>0.263697</td>\n",
       "      <td>0.261340</td>\n",
       "      <td>0.042262</td>\n",
       "      <td>0.152422</td>\n",
       "      <td>0.324817</td>\n",
       "      <td>0.408774</td>\n",
       "    </tr>\n",
       "    <tr>\n",
       "      <th>streaming_tv</th>\n",
       "      <td>0.008118</td>\n",
       "      <td>0.105673</td>\n",
       "      <td>0.106774</td>\n",
       "      <td>-0.019338</td>\n",
       "      <td>0.234957</td>\n",
       "      <td>-0.031950</td>\n",
       "      <td>0.235281</td>\n",
       "      <td>-0.252589</td>\n",
       "      <td>0.151307</td>\n",
       "      <td>0.279839</td>\n",
       "      <td>0.379038</td>\n",
       "      <td>0.253208</td>\n",
       "      <td>1.000000</td>\n",
       "      <td>0.525767</td>\n",
       "      <td>0.059678</td>\n",
       "      <td>0.230078</td>\n",
       "      <td>-0.047844</td>\n",
       "      <td>0.625436</td>\n",
       "      <td>0.500944</td>\n",
       "    </tr>\n",
       "    <tr>\n",
       "      <th>streaming_movies</th>\n",
       "      <td>-0.006170</td>\n",
       "      <td>0.132922</td>\n",
       "      <td>0.102940</td>\n",
       "      <td>-0.040399</td>\n",
       "      <td>0.236341</td>\n",
       "      <td>-0.038084</td>\n",
       "      <td>0.230023</td>\n",
       "      <td>-0.263008</td>\n",
       "      <td>0.154393</td>\n",
       "      <td>0.271144</td>\n",
       "      <td>0.403982</td>\n",
       "      <td>0.263697</td>\n",
       "      <td>0.525767</td>\n",
       "      <td>1.000000</td>\n",
       "      <td>0.063222</td>\n",
       "      <td>0.224379</td>\n",
       "      <td>-0.035703</td>\n",
       "      <td>0.625766</td>\n",
       "      <td>0.502505</td>\n",
       "    </tr>\n",
       "    <tr>\n",
       "      <th>contract_type_id</th>\n",
       "      <td>0.013381</td>\n",
       "      <td>-0.149383</td>\n",
       "      <td>0.267815</td>\n",
       "      <td>0.239965</td>\n",
       "      <td>0.649711</td>\n",
       "      <td>-0.002822</td>\n",
       "      <td>0.054694</td>\n",
       "      <td>0.120480</td>\n",
       "      <td>0.210551</td>\n",
       "      <td>0.114883</td>\n",
       "      <td>0.176169</td>\n",
       "      <td>0.261340</td>\n",
       "      <td>0.059678</td>\n",
       "      <td>0.063222</td>\n",
       "      <td>1.000000</td>\n",
       "      <td>-0.189386</td>\n",
       "      <td>0.337960</td>\n",
       "      <td>-0.131561</td>\n",
       "      <td>0.401242</td>\n",
       "    </tr>\n",
       "    <tr>\n",
       "      <th>paperless_billing</th>\n",
       "      <td>-0.002722</td>\n",
       "      <td>0.150091</td>\n",
       "      <td>-0.008842</td>\n",
       "      <td>-0.103399</td>\n",
       "      <td>-0.001953</td>\n",
       "      <td>0.006599</td>\n",
       "      <td>0.163105</td>\n",
       "      <td>-0.144582</td>\n",
       "      <td>0.001575</td>\n",
       "      <td>0.140723</td>\n",
       "      <td>0.112193</td>\n",
       "      <td>0.042262</td>\n",
       "      <td>0.230078</td>\n",
       "      <td>0.224379</td>\n",
       "      <td>-0.189386</td>\n",
       "      <td>1.000000</td>\n",
       "      <td>-0.091011</td>\n",
       "      <td>0.354480</td>\n",
       "      <td>0.170365</td>\n",
       "    </tr>\n",
       "    <tr>\n",
       "      <th>payment_type_id</th>\n",
       "      <td>-0.003791</td>\n",
       "      <td>-0.079899</td>\n",
       "      <td>0.105831</td>\n",
       "      <td>0.112733</td>\n",
       "      <td>0.308017</td>\n",
       "      <td>-0.002819</td>\n",
       "      <td>0.008863</td>\n",
       "      <td>-0.001401</td>\n",
       "      <td>0.157472</td>\n",
       "      <td>0.077145</td>\n",
       "      <td>0.083637</td>\n",
       "      <td>0.152422</td>\n",
       "      <td>-0.047844</td>\n",
       "      <td>-0.035703</td>\n",
       "      <td>0.337960</td>\n",
       "      <td>-0.091011</td>\n",
       "      <td>1.000000</td>\n",
       "      <td>-0.096226</td>\n",
       "      <td>0.184205</td>\n",
       "    </tr>\n",
       "    <tr>\n",
       "      <th>monthly_charges</th>\n",
       "      <td>-0.015025</td>\n",
       "      <td>0.221857</td>\n",
       "      <td>0.075762</td>\n",
       "      <td>-0.112489</td>\n",
       "      <td>0.199799</td>\n",
       "      <td>0.246464</td>\n",
       "      <td>0.481816</td>\n",
       "      <td>-0.326522</td>\n",
       "      <td>0.285630</td>\n",
       "      <td>0.440393</td>\n",
       "      <td>0.486253</td>\n",
       "      <td>0.324817</td>\n",
       "      <td>0.625436</td>\n",
       "      <td>0.625766</td>\n",
       "      <td>-0.131561</td>\n",
       "      <td>0.354480</td>\n",
       "      <td>-0.096226</td>\n",
       "      <td>1.000000</td>\n",
       "      <td>0.655987</td>\n",
       "    </tr>\n",
       "    <tr>\n",
       "      <th>total_charges</th>\n",
       "      <td>0.003468</td>\n",
       "      <td>0.115027</td>\n",
       "      <td>0.287870</td>\n",
       "      <td>0.061651</td>\n",
       "      <td>0.803391</td>\n",
       "      <td>0.116499</td>\n",
       "      <td>0.442592</td>\n",
       "      <td>-0.185600</td>\n",
       "      <td>0.389213</td>\n",
       "      <td>0.501592</td>\n",
       "      <td>0.505125</td>\n",
       "      <td>0.408774</td>\n",
       "      <td>0.500944</td>\n",
       "      <td>0.502505</td>\n",
       "      <td>0.401242</td>\n",
       "      <td>0.170365</td>\n",
       "      <td>0.184205</td>\n",
       "      <td>0.655987</td>\n",
       "      <td>1.000000</td>\n",
       "    </tr>\n",
       "  </tbody>\n",
       "</table>\n",
       "</div>"
      ],
      "text/plain": [
       "                            gender  senior_citizen   partner  dependents  \\\n",
       "gender                    1.000000        0.003584  0.004652    0.009307   \n",
       "senior_citizen            0.003584        1.000000  0.009682   -0.212576   \n",
       "partner                   0.004652        0.009682  1.000000    0.453003   \n",
       "dependents                0.009307       -0.212576  0.453003    1.000000   \n",
       "tenure                    0.014675        0.016692  0.341563    0.156847   \n",
       "phone_service            -0.014882        0.002589  0.024808    0.001725   \n",
       "multiple_lines           -0.015659        0.134480  0.127003   -0.023402   \n",
       "internet_service_type_id -0.002717       -0.033367  0.002149    0.029418   \n",
       "online_security          -0.007484       -0.020438  0.114377    0.070485   \n",
       "online_backup            -0.005784        0.077933  0.117264    0.023145   \n",
       "device_protection        -0.004262        0.070964  0.134881    0.008039   \n",
       "tech_support             -0.011959       -0.076350  0.099651    0.074918   \n",
       "streaming_tv              0.008118        0.105673  0.106774   -0.019338   \n",
       "streaming_movies         -0.006170        0.132922  0.102940   -0.040399   \n",
       "contract_type_id          0.013381       -0.149383  0.267815    0.239965   \n",
       "paperless_billing        -0.002722        0.150091 -0.008842   -0.103399   \n",
       "payment_type_id          -0.003791       -0.079899  0.105831    0.112733   \n",
       "monthly_charges          -0.015025        0.221857  0.075762   -0.112489   \n",
       "total_charges             0.003468        0.115027  0.287870    0.061651   \n",
       "\n",
       "                            tenure  phone_service  multiple_lines  \\\n",
       "gender                    0.014675      -0.014882       -0.015659   \n",
       "senior_citizen            0.016692       0.002589        0.134480   \n",
       "partner                   0.341563       0.024808        0.127003   \n",
       "dependents                0.156847       0.001725       -0.023402   \n",
       "tenure                    1.000000      -0.000510        0.283372   \n",
       "phone_service            -0.000510       1.000000        0.296823   \n",
       "multiple_lines            0.283372       0.296823        1.000000   \n",
       "internet_service_type_id -0.017539       0.385638        0.018334   \n",
       "online_security           0.293015      -0.087501        0.068684   \n",
       "online_backup             0.332351      -0.062604        0.184223   \n",
       "device_protection         0.319115      -0.071891        0.177840   \n",
       "tech_support              0.290696      -0.103504        0.064959   \n",
       "streaming_tv              0.234957      -0.031950        0.235281   \n",
       "streaming_movies          0.236341      -0.038084        0.230023   \n",
       "contract_type_id          0.649711      -0.002822        0.054694   \n",
       "paperless_billing        -0.001953       0.006599        0.163105   \n",
       "payment_type_id           0.308017      -0.002819        0.008863   \n",
       "monthly_charges           0.199799       0.246464        0.481816   \n",
       "total_charges             0.803391       0.116499        0.442592   \n",
       "\n",
       "                          internet_service_type_id  online_security  \\\n",
       "gender                                   -0.002717        -0.007484   \n",
       "senior_citizen                           -0.033367        -0.020438   \n",
       "partner                                   0.002149         0.114377   \n",
       "dependents                                0.029418         0.070485   \n",
       "tenure                                   -0.017539         0.293015   \n",
       "phone_service                             0.385638        -0.087501   \n",
       "multiple_lines                            0.018334         0.068684   \n",
       "internet_service_type_id                  1.000000        -0.405947   \n",
       "online_security                          -0.405947         1.000000   \n",
       "online_backup                            -0.331759         0.261240   \n",
       "device_protection                        -0.310153         0.255637   \n",
       "tech_support                             -0.407688         0.345977   \n",
       "streaming_tv                             -0.252589         0.151307   \n",
       "streaming_movies                         -0.263008         0.154393   \n",
       "contract_type_id                          0.120480         0.210551   \n",
       "paperless_billing                        -0.144582         0.001575   \n",
       "payment_type_id                          -0.001401         0.157472   \n",
       "monthly_charges                          -0.326522         0.285630   \n",
       "total_charges                            -0.185600         0.389213   \n",
       "\n",
       "                          online_backup  device_protection  tech_support  \\\n",
       "gender                        -0.005784          -0.004262     -0.011959   \n",
       "senior_citizen                 0.077933           0.070964     -0.076350   \n",
       "partner                        0.117264           0.134881      0.099651   \n",
       "dependents                     0.023145           0.008039      0.074918   \n",
       "tenure                         0.332351           0.319115      0.290696   \n",
       "phone_service                 -0.062604          -0.071891     -0.103504   \n",
       "multiple_lines                 0.184223           0.177840      0.064959   \n",
       "internet_service_type_id      -0.331759          -0.310153     -0.407688   \n",
       "online_security                0.261240           0.255637      0.345977   \n",
       "online_backup                  1.000000           0.289069      0.282276   \n",
       "device_protection              0.289069           1.000000      0.303812   \n",
       "tech_support                   0.282276           0.303812      1.000000   \n",
       "streaming_tv                   0.279839           0.379038      0.253208   \n",
       "streaming_movies               0.271144           0.403982      0.263697   \n",
       "contract_type_id               0.114883           0.176169      0.261340   \n",
       "paperless_billing              0.140723           0.112193      0.042262   \n",
       "payment_type_id                0.077145           0.083637      0.152422   \n",
       "monthly_charges                0.440393           0.486253      0.324817   \n",
       "total_charges                  0.501592           0.505125      0.408774   \n",
       "\n",
       "                          streaming_tv  streaming_movies  contract_type_id  \\\n",
       "gender                        0.008118         -0.006170          0.013381   \n",
       "senior_citizen                0.105673          0.132922         -0.149383   \n",
       "partner                       0.106774          0.102940          0.267815   \n",
       "dependents                   -0.019338         -0.040399          0.239965   \n",
       "tenure                        0.234957          0.236341          0.649711   \n",
       "phone_service                -0.031950         -0.038084         -0.002822   \n",
       "multiple_lines                0.235281          0.230023          0.054694   \n",
       "internet_service_type_id     -0.252589         -0.263008          0.120480   \n",
       "online_security               0.151307          0.154393          0.210551   \n",
       "online_backup                 0.279839          0.271144          0.114883   \n",
       "device_protection             0.379038          0.403982          0.176169   \n",
       "tech_support                  0.253208          0.263697          0.261340   \n",
       "streaming_tv                  1.000000          0.525767          0.059678   \n",
       "streaming_movies              0.525767          1.000000          0.063222   \n",
       "contract_type_id              0.059678          0.063222          1.000000   \n",
       "paperless_billing             0.230078          0.224379         -0.189386   \n",
       "payment_type_id              -0.047844         -0.035703          0.337960   \n",
       "monthly_charges               0.625436          0.625766         -0.131561   \n",
       "total_charges                 0.500944          0.502505          0.401242   \n",
       "\n",
       "                          paperless_billing  payment_type_id  monthly_charges  \\\n",
       "gender                            -0.002722        -0.003791        -0.015025   \n",
       "senior_citizen                     0.150091        -0.079899         0.221857   \n",
       "partner                           -0.008842         0.105831         0.075762   \n",
       "dependents                        -0.103399         0.112733        -0.112489   \n",
       "tenure                            -0.001953         0.308017         0.199799   \n",
       "phone_service                      0.006599        -0.002819         0.246464   \n",
       "multiple_lines                     0.163105         0.008863         0.481816   \n",
       "internet_service_type_id          -0.144582        -0.001401        -0.326522   \n",
       "online_security                    0.001575         0.157472         0.285630   \n",
       "online_backup                      0.140723         0.077145         0.440393   \n",
       "device_protection                  0.112193         0.083637         0.486253   \n",
       "tech_support                       0.042262         0.152422         0.324817   \n",
       "streaming_tv                       0.230078        -0.047844         0.625436   \n",
       "streaming_movies                   0.224379        -0.035703         0.625766   \n",
       "contract_type_id                  -0.189386         0.337960        -0.131561   \n",
       "paperless_billing                  1.000000        -0.091011         0.354480   \n",
       "payment_type_id                   -0.091011         1.000000        -0.096226   \n",
       "monthly_charges                    0.354480        -0.096226         1.000000   \n",
       "total_charges                      0.170365         0.184205         0.655987   \n",
       "\n",
       "                          total_charges  \n",
       "gender                         0.003468  \n",
       "senior_citizen                 0.115027  \n",
       "partner                        0.287870  \n",
       "dependents                     0.061651  \n",
       "tenure                         0.803391  \n",
       "phone_service                  0.116499  \n",
       "multiple_lines                 0.442592  \n",
       "internet_service_type_id      -0.185600  \n",
       "online_security                0.389213  \n",
       "online_backup                  0.501592  \n",
       "device_protection              0.505125  \n",
       "tech_support                   0.408774  \n",
       "streaming_tv                   0.500944  \n",
       "streaming_movies               0.502505  \n",
       "contract_type_id               0.401242  \n",
       "paperless_billing              0.170365  \n",
       "payment_type_id                0.184205  \n",
       "monthly_charges                0.655987  \n",
       "total_charges                  1.000000  "
      ]
     },
     "execution_count": 26,
     "metadata": {},
     "output_type": "execute_result"
    }
   ],
   "source": [
    "X_train.corr(method ='pearson') "
   ]
  },
  {
   "cell_type": "markdown",
   "metadata": {},
   "source": [
    "\n"
   ]
  },
  {
   "cell_type": "code",
   "execution_count": 27,
   "metadata": {},
   "outputs": [
    {
     "data": {
      "image/png": "[encoded data removed]",
      "text/plain": [
       "<Figure size 1440x1440 with 2 Axes>"
      ]
     },
     "metadata": {
      "needs_background": "light"
     },
     "output_type": "display_data"
    }
   ],
   "source": [
    "plt.figure(figsize=(20,20))\n",
    "sns.heatmap(X_train.corr(), cmap='RdBu', annot=True).set_title(\"Correlation matrix of all dependent variables\", fontsize = 18)\n",
    "plt.show()"
   ]
  },
  {
   "cell_type": "markdown",
   "metadata": {},
   "source": [
    "### High correlation among X variables to determine candidates for combining or eliminating\n",
    "Partner and dependents: .45\n",
    "\n",
    "Streaming movies and streaming TV: .53\n",
    "\n",
    "Contract type and tenure: .65"
   ]
  },
  {
   "cell_type": "markdown",
   "metadata": {},
   "source": [
    "### Combine 'partner' and 'dependents' variables into 'family'"
   ]
  },
  {
   "cell_type": "code",
   "execution_count": 28,
   "metadata": {},
   "outputs": [],
   "source": [
    "X_train['family'] = X_train.partner + X_train.dependents"
   ]
  },
  {
   "cell_type": "code",
   "execution_count": 29,
   "metadata": {},
   "outputs": [],
   "source": [
    "X_train['family'].replace({2:1}, inplace = True)"
   ]
  },
  {
   "cell_type": "code",
   "execution_count": 30,
   "metadata": {},
   "outputs": [],
   "source": [
    "X_test['family'] = X_test.partner + X_test.dependents"
   ]
  },
  {
   "cell_type": "code",
   "execution_count": 31,
   "metadata": {},
   "outputs": [],
   "source": [
    "X_test['family'].replace({2:1}, inplace = True)"
   ]
  },
  {
   "cell_type": "markdown",
   "metadata": {},
   "source": [
    "### Combine two streaming variables to 'streaming'"
   ]
  },
  {
   "cell_type": "code",
   "execution_count": 32,
   "metadata": {},
   "outputs": [],
   "source": [
    "X_train['streaming'] = X_train.streaming_tv + X_train.streaming_movies"
   ]
  },
  {
   "cell_type": "code",
   "execution_count": 33,
   "metadata": {},
   "outputs": [],
   "source": [
    "X_train['streaming'].replace({2:1}, inplace = True)"
   ]
  },
  {
   "cell_type": "code",
   "execution_count": 34,
   "metadata": {},
   "outputs": [],
   "source": [
    "X_test['streaming'] = X_test.streaming_tv + X_test.streaming_movies"
   ]
  },
  {
   "cell_type": "code",
   "execution_count": 35,
   "metadata": {},
   "outputs": [],
   "source": [
    "X_test['streaming'].replace({2:1}, inplace = True)"
   ]
  },
  {
   "cell_type": "code",
   "execution_count": 36,
   "metadata": {},
   "outputs": [],
   "source": [
    "X_train = X_train.drop(columns=['streaming_tv', 'streaming_movies', 'partner', 'dependents'])"
   ]
  },
  {
   "cell_type": "markdown",
   "metadata": {},
   "source": [
    "### Combine 4 on-line service variables to 'services'"
   ]
  },
  {
   "cell_type": "code",
   "execution_count": 37,
   "metadata": {
    "scrolled": true
   },
   "outputs": [
    {
     "data": {
      "text/plain": [
       "5677    0\n",
       "5025    0\n",
       "2238    0\n",
       "499     0\n",
       "4682    0\n",
       "6320    0\n",
       "550     0\n",
       "777     0\n",
       "6242    0\n",
       "620     0\n",
       "952     0\n",
       "2760    1\n",
       "2448    1\n",
       "4442    0\n",
       "1064    0\n",
       "5116    1\n",
       "3991    0\n",
       "5139    0\n",
       "4827    0\n",
       "1398    0\n",
       "4037    1\n",
       "385     0\n",
       "212     1\n",
       "4863    1\n",
       "1318    0\n",
       "3653    0\n",
       "4438    1\n",
       "1532    0\n",
       "5001    1\n",
       "1103    0\n",
       "       ..\n",
       "6077    1\n",
       "5679    0\n",
       "6416    0\n",
       "39      0\n",
       "2050    1\n",
       "4547    0\n",
       "1847    0\n",
       "1092    0\n",
       "3325    1\n",
       "2894    1\n",
       "1363    1\n",
       "3481    0\n",
       "111     1\n",
       "6368    0\n",
       "942     0\n",
       "5664    0\n",
       "4169    1\n",
       "4143    0\n",
       "6257    0\n",
       "96      0\n",
       "5857    0\n",
       "1593    0\n",
       "5243    0\n",
       "6250    0\n",
       "5862    0\n",
       "5218    0\n",
       "4060    1\n",
       "1346    0\n",
       "3454    0\n",
       "3582    0\n",
       "Name: tech_support, Length: 4493, dtype: int64"
      ]
     },
     "execution_count": 37,
     "metadata": {},
     "output_type": "execute_result"
    }
   ],
   "source": [
    "X_train['services'] = X_train.online_security + X_train.online_backup + X_train.device_protection \n",
    "+ X_train.tech_support"
   ]
  },
  {
   "cell_type": "code",
   "execution_count": 38,
   "metadata": {},
   "outputs": [],
   "source": [
    "X_train['services'].replace({2:1, 3:1, 4:1}, inplace = True)"
   ]
  },
  {
   "cell_type": "code",
   "execution_count": 39,
   "metadata": {},
   "outputs": [
    {
     "data": {
      "text/plain": [
       "1370    0\n",
       "3829    0\n",
       "437     0\n",
       "5051    0\n",
       "1459    0\n",
       "3317    0\n",
       "5671    0\n",
       "4660    1\n",
       "6271    0\n",
       "5895    0\n",
       "2995    0\n",
       "1035    1\n",
       "1004    0\n",
       "1386    0\n",
       "3194    1\n",
       "6099    0\n",
       "5008    0\n",
       "3858    0\n",
       "5142    0\n",
       "4403    1\n",
       "3248    0\n",
       "4292    0\n",
       "628     1\n",
       "2895    0\n",
       "1778    1\n",
       "4276    0\n",
       "2764    0\n",
       "5817    0\n",
       "1621    0\n",
       "5079    1\n",
       "       ..\n",
       "1941    0\n",
       "3030    0\n",
       "1074    1\n",
       "4147    0\n",
       "5165    0\n",
       "1155    1\n",
       "4078    1\n",
       "4477    0\n",
       "283     0\n",
       "5653    0\n",
       "3286    1\n",
       "2864    1\n",
       "1002    1\n",
       "5283    0\n",
       "5368    1\n",
       "5439    0\n",
       "2148    0\n",
       "254     0\n",
       "5143    0\n",
       "5431    1\n",
       "5793    0\n",
       "966     0\n",
       "6032    0\n",
       "3249    0\n",
       "595     0\n",
       "5181    0\n",
       "4448    1\n",
       "6377    0\n",
       "3845    0\n",
       "498     0\n",
       "Name: tech_support, Length: 1926, dtype: int64"
      ]
     },
     "execution_count": 39,
     "metadata": {},
     "output_type": "execute_result"
    }
   ],
   "source": [
    "X_test['services'] = X_test.online_security + X_test.online_backup + X_test.device_protection \n",
    "+ X_test.tech_support"
   ]
  },
  {
   "cell_type": "code",
   "execution_count": 40,
   "metadata": {},
   "outputs": [],
   "source": [
    "X_test['services'].replace({2:1, 3:1, 4:1}, inplace = True)"
   ]
  },
  {
   "cell_type": "code",
   "execution_count": 41,
   "metadata": {},
   "outputs": [],
   "source": [
    "X_train = X_train.drop(columns=['online_security', 'online_backup', 'device_protection', 'tech_support'])"
   ]
  },
  {
   "cell_type": "code",
   "execution_count": 42,
   "metadata": {},
   "outputs": [],
   "source": [
    "X_test = X_test.drop(columns=['online_security', 'online_backup', 'device_protection', 'tech_support'])"
   ]
  },
  {
   "cell_type": "markdown",
   "metadata": {},
   "source": [
    "### Drop payment and billing variables as unnecessary for analysis"
   ]
  },
  {
   "cell_type": "code",
   "execution_count": 43,
   "metadata": {},
   "outputs": [],
   "source": [
    "X_train = X_train.drop(columns=['payment_type_id', 'paperless_billing'])"
   ]
  },
  {
   "cell_type": "code",
   "execution_count": 44,
   "metadata": {},
   "outputs": [],
   "source": [
    "X_test = X_test.drop(columns=['payment_type_id', 'paperless_billing'])"
   ]
  },
  {
   "cell_type": "code",
   "execution_count": null,
   "metadata": {},
   "outputs": [],
   "source": []
  },
  {
   "cell_type": "markdown",
   "metadata": {},
   "source": [
    "## Split columns with 3+ possible responses into indvididual columns"
   ]
  },
  {
   "cell_type": "code",
   "execution_count": 45,
   "metadata": {
    "scrolled": true
   },
   "outputs": [],
   "source": [
    "def encode(X_train, X_test, col_name):\n",
    "\n",
    "    encoded_values = sorted(list(X_train['internet_service_type_id'].unique()))\n",
    "\n",
    "    # Integer Encoding\n",
    "    int_encoder = LabelEncoder()\n",
    "    X_train.encoded = int_encoder.fit_transform(X_train['internet_service_type_id'])\n",
    "    X_test.encoded = int_encoder.transform(X_test['internet_service_type_id'])\n",
    "\n",
    "    # create 2D np arrays of the encoded variable (in train and test)\n",
    "    X_train_array = np.array(X_train.encoded).reshape(len(X_train.encoded),1)\n",
    "    X_test_array = np.array(X_test.encoded).reshape(len(X_test.encoded),1)\n",
    "\n",
    "    # One Hot Encoding\n",
    "    ohe = OneHotEncoder(sparse=False, categories='auto')\n",
    "    X_train_ohe = ohe.fit_transform(X_train_array)\n",
    "    X_test_ohe = ohe.transform(X_test_array)\n",
    "\n",
    "    # Turn the array of new values into a data frame with columns names being the values\n",
    "    # and index matching that of train/test\n",
    "    # then merge the new dataframe with the existing train/test dataframe\n",
    "    X_train_encoded = pd.DataFrame(data=X_train_ohe,\n",
    "                            columns=encoded_values, index=X_train.index)\n",
    "    X_train = X_train.join(X_train_encoded)\n",
    "\n",
    "    X_test_encoded = pd.DataFrame(data=X_test_ohe,\n",
    "                               columns=encoded_values, index=X_test.index)\n",
    "    X_test = X_test.join(X_test_encoded)\n",
    "\n",
    "    return X_train, X_test\n",
    "\n",
    "X_train, X_test = encode(X_train, X_test, col_name = 'internet_service_type_id')"
   ]
  },
  {
   "cell_type": "code",
   "execution_count": 46,
   "metadata": {},
   "outputs": [
    {
     "data": {
      "text/html": [
       "<div>\n",
       "<style scoped>\n",
       "    .dataframe tbody tr th:only-of-type {\n",
       "        vertical-align: middle;\n",
       "    }\n",
       "\n",
       "    .dataframe tbody tr th {\n",
       "        vertical-align: top;\n",
       "    }\n",
       "\n",
       "    .dataframe thead th {\n",
       "        text-align: right;\n",
       "    }\n",
       "</style>\n",
       "<table border=\"1\" class=\"dataframe\">\n",
       "  <thead>\n",
       "    <tr style=\"text-align: right;\">\n",
       "      <th></th>\n",
       "      <th>gender</th>\n",
       "      <th>senior_citizen</th>\n",
       "      <th>tenure</th>\n",
       "      <th>phone_service</th>\n",
       "      <th>multiple_lines</th>\n",
       "      <th>internet_service_type_id</th>\n",
       "      <th>contract_type_id</th>\n",
       "      <th>monthly_charges</th>\n",
       "      <th>total_charges</th>\n",
       "      <th>family</th>\n",
       "      <th>streaming</th>\n",
       "      <th>services</th>\n",
       "      <th>1</th>\n",
       "      <th>2</th>\n",
       "      <th>3</th>\n",
       "    </tr>\n",
       "  </thead>\n",
       "  <tbody>\n",
       "    <tr>\n",
       "      <th>5677</th>\n",
       "      <td>0</td>\n",
       "      <td>1</td>\n",
       "      <td>46</td>\n",
       "      <td>1</td>\n",
       "      <td>1</td>\n",
       "      <td>2</td>\n",
       "      <td>1</td>\n",
       "      <td>104.45</td>\n",
       "      <td>4863.85</td>\n",
       "      <td>0</td>\n",
       "      <td>1</td>\n",
       "      <td>1</td>\n",
       "      <td>0.0</td>\n",
       "      <td>1.0</td>\n",
       "      <td>0.0</td>\n",
       "    </tr>\n",
       "    <tr>\n",
       "      <th>5025</th>\n",
       "      <td>1</td>\n",
       "      <td>0</td>\n",
       "      <td>31</td>\n",
       "      <td>1</td>\n",
       "      <td>1</td>\n",
       "      <td>2</td>\n",
       "      <td>2</td>\n",
       "      <td>103.45</td>\n",
       "      <td>3066.45</td>\n",
       "      <td>0</td>\n",
       "      <td>1</td>\n",
       "      <td>1</td>\n",
       "      <td>0.0</td>\n",
       "      <td>1.0</td>\n",
       "      <td>0.0</td>\n",
       "    </tr>\n",
       "    <tr>\n",
       "      <th>2238</th>\n",
       "      <td>0</td>\n",
       "      <td>0</td>\n",
       "      <td>37</td>\n",
       "      <td>1</td>\n",
       "      <td>0</td>\n",
       "      <td>1</td>\n",
       "      <td>1</td>\n",
       "      <td>64.75</td>\n",
       "      <td>2345.20</td>\n",
       "      <td>0</td>\n",
       "      <td>1</td>\n",
       "      <td>0</td>\n",
       "      <td>1.0</td>\n",
       "      <td>0.0</td>\n",
       "      <td>0.0</td>\n",
       "    </tr>\n",
       "    <tr>\n",
       "      <th>499</th>\n",
       "      <td>1</td>\n",
       "      <td>0</td>\n",
       "      <td>58</td>\n",
       "      <td>1</td>\n",
       "      <td>0</td>\n",
       "      <td>3</td>\n",
       "      <td>2</td>\n",
       "      <td>19.55</td>\n",
       "      <td>1108.80</td>\n",
       "      <td>1</td>\n",
       "      <td>0</td>\n",
       "      <td>0</td>\n",
       "      <td>0.0</td>\n",
       "      <td>0.0</td>\n",
       "      <td>1.0</td>\n",
       "    </tr>\n",
       "    <tr>\n",
       "      <th>4682</th>\n",
       "      <td>1</td>\n",
       "      <td>0</td>\n",
       "      <td>4</td>\n",
       "      <td>1</td>\n",
       "      <td>0</td>\n",
       "      <td>2</td>\n",
       "      <td>1</td>\n",
       "      <td>88.45</td>\n",
       "      <td>370.65</td>\n",
       "      <td>0</td>\n",
       "      <td>1</td>\n",
       "      <td>0</td>\n",
       "      <td>0.0</td>\n",
       "      <td>1.0</td>\n",
       "      <td>0.0</td>\n",
       "    </tr>\n",
       "  </tbody>\n",
       "</table>\n",
       "</div>"
      ],
      "text/plain": [
       "      gender  senior_citizen  tenure  phone_service  multiple_lines  \\\n",
       "5677       0               1      46              1               1   \n",
       "5025       1               0      31              1               1   \n",
       "2238       0               0      37              1               0   \n",
       "499        1               0      58              1               0   \n",
       "4682       1               0       4              1               0   \n",
       "\n",
       "      internet_service_type_id  contract_type_id  monthly_charges  \\\n",
       "5677                         2                 1           104.45   \n",
       "5025                         2                 2           103.45   \n",
       "2238                         1                 1            64.75   \n",
       "499                          3                 2            19.55   \n",
       "4682                         2                 1            88.45   \n",
       "\n",
       "      total_charges  family  streaming  services    1    2    3  \n",
       "5677        4863.85       0          1         1  0.0  1.0  0.0  \n",
       "5025        3066.45       0          1         1  0.0  1.0  0.0  \n",
       "2238        2345.20       0          1         0  1.0  0.0  0.0  \n",
       "499         1108.80       1          0         0  0.0  0.0  1.0  \n",
       "4682         370.65       0          1         0  0.0  1.0  0.0  "
      ]
     },
     "execution_count": 46,
     "metadata": {},
     "output_type": "execute_result"
    }
   ],
   "source": [
    "X_train.head()"
   ]
  },
  {
   "cell_type": "markdown",
   "metadata": {},
   "source": [
    "### Rename newly created columns"
   ]
  },
  {
   "cell_type": "code",
   "execution_count": 47,
   "metadata": {},
   "outputs": [],
   "source": [
    "X_train.rename(columns={1 :'DSL', 2 : 'fiber_optic', 3 : 'no_internet'}, inplace = True)\n",
    "X_test.rename(columns={1 :'DSL', 2 : 'fiber_optic', 3 : 'no_internet'}, inplace = True)"
   ]
  },
  {
   "cell_type": "code",
   "execution_count": 48,
   "metadata": {},
   "outputs": [],
   "source": [
    "def encode(X_train, X_test, col_name):\n",
    "\n",
    "    encoded_values = sorted(list(X_train['contract_type_id'].unique()))\n",
    "\n",
    "    # Integer Encoding\n",
    "    int_encoder = LabelEncoder()\n",
    "    X_train.encoded = int_encoder.fit_transform(X_train['contract_type_id'])\n",
    "    X_test.encoded = int_encoder.transform(X_test['contract_type_id'])\n",
    "\n",
    "    # create 2D np arrays of the encoded variable (in train and test)\n",
    "    X_train_array = np.array(X_train.encoded).reshape(len(X_train.encoded),1)\n",
    "    X_test_array = np.array(X_test.encoded).reshape(len(X_test.encoded),1)\n",
    "\n",
    "    # One Hot Encoding\n",
    "    ohe = OneHotEncoder(sparse=False, categories='auto')\n",
    "    X_train_ohe = ohe.fit_transform(X_train_array)\n",
    "    X_test_ohe = ohe.transform(X_test_array)\n",
    "\n",
    "    # Turn the array of new values into a data frame with columns names being the values\n",
    "    # and index matching that of train/test\n",
    "    # then merge the new dataframe with the existing train/test dataframe\n",
    "    X_train_encoded = pd.DataFrame(data=X_train_ohe,\n",
    "                            columns=encoded_values, index=X_train.index)\n",
    "    X_train = X_train.join(X_train_encoded)\n",
    "\n",
    "    X_test_encoded = pd.DataFrame(data=X_test_ohe,\n",
    "                               columns=encoded_values, index=X_test.index)\n",
    "    X_test = X_test.join(X_test_encoded)\n",
    "\n",
    "    return X_train, X_test\n",
    "\n",
    "X_train, X_test = encode(X_train, X_test, col_name = 'contract_type_id')"
   ]
  },
  {
   "cell_type": "code",
   "execution_count": 49,
   "metadata": {},
   "outputs": [],
   "source": [
    "X_train.rename(columns={1 :'monthly', 2 : 'one_year', 3 : 'two_year'}, inplace = True)\n",
    "X_test.rename(columns={1 :'monthly', 2 : 'one_year', 3 : 'two_year'}, inplace = True)"
   ]
  },
  {
   "cell_type": "code",
   "execution_count": 50,
   "metadata": {},
   "outputs": [],
   "source": [
    "X_train.drop(columns= 'internet_service_type_id', inplace = True)\n",
    "X_test.drop(columns= 'internet_service_type_id', inplace = True)"
   ]
  },
  {
   "cell_type": "code",
   "execution_count": 51,
   "metadata": {},
   "outputs": [],
   "source": [
    "X_train.drop(columns= 'contract_type_id', inplace = True)\n",
    "X_test.drop(columns= 'contract_type_id', inplace = True)"
   ]
  },
  {
   "cell_type": "code",
   "execution_count": 52,
   "metadata": {},
   "outputs": [],
   "source": [
    "X_test.drop(columns= ['partner', 'dependents', 'streaming_tv', 'streaming_movies'], inplace = True)"
   ]
  },
  {
   "cell_type": "code",
   "execution_count": 53,
   "metadata": {},
   "outputs": [],
   "source": [
    "X_train[\"tenure_years\"] = (X_train.tenure/12).apply(np.floor)\n",
    "X_test[\"tenure_years\"] = (X_test.tenure/12).apply(np.floor)"
   ]
  },
  {
   "cell_type": "code",
   "execution_count": null,
   "metadata": {},
   "outputs": [],
   "source": []
  },
  {
   "cell_type": "code",
   "execution_count": 103,
   "metadata": {},
   "outputs": [
    {
     "name": "stdout",
     "output_type": "stream",
     "text": [
      "<class 'pandas.core.frame.DataFrame'>\n",
      "Int64Index: 4493 entries, 5677 to 3582\n",
      "Data columns (total 17 columns):\n",
      "gender             4493 non-null int64\n",
      "senior_citizen     4493 non-null int64\n",
      "tenure             4493 non-null int64\n",
      "phone_service      4493 non-null int64\n",
      "multiple_lines     4493 non-null int64\n",
      "monthly_charges    4493 non-null float64\n",
      "total_charges      4493 non-null float64\n",
      "family             4493 non-null int64\n",
      "streaming          4493 non-null int64\n",
      "services           4493 non-null int64\n",
      "DSL                4493 non-null float64\n",
      "fiber_optic        4493 non-null float64\n",
      "no_internet        4493 non-null float64\n",
      "monthly            4493 non-null float64\n",
      "one_year           4493 non-null float64\n",
      "two_year           4493 non-null float64\n",
      "tenure_years       4493 non-null float64\n",
      "dtypes: float64(9), int64(8)\n",
      "memory usage: 791.8 KB\n"
     ]
    }
   ],
   "source": [
    "X_train.info()"
   ]
  },
  {
   "cell_type": "markdown",
   "metadata": {},
   "source": [
    " "
   ]
  },
  {
   "cell_type": "markdown",
   "metadata": {},
   "source": [
    "# Explore data"
   ]
  },
  {
   "cell_type": "code",
   "execution_count": null,
   "metadata": {},
   "outputs": [],
   "source": [
    "## Percent of clients who "
   ]
  },
  {
   "cell_type": "code",
   "execution_count": 105,
   "metadata": {},
   "outputs": [
    {
     "data": {
      "text/plain": [
       "gender             50.856888\n",
       "senior_citizen     16.848431\n",
       "tenure              0.000000\n",
       "phone_service      90.451814\n",
       "multiple_lines     45.492989\n",
       "monthly_charges     0.000000\n",
       "total_charges       0.000000\n",
       "family             55.886935\n",
       "streaming          52.192299\n",
       "services           60.449588\n",
       "DSL                34.208769\n",
       "fiber_optic        44.647229\n",
       "no_internet        21.144002\n",
       "monthly            51.368796\n",
       "one_year           22.701981\n",
       "two_year           25.929223\n",
       "tenure_years       16.269753\n",
       "dtype: float64"
      ]
     },
     "execution_count": 105,
     "metadata": {},
     "output_type": "execute_result"
    }
   ],
   "source": []
  },
  {
   "cell_type": "markdown",
   "metadata": {},
   "source": [
    "### Is tenure in and of itself a predictor of churn?     No, as per the graph below, churn decreases with longevity."
   ]
  },
  {
   "cell_type": "code",
   "execution_count": 54,
   "metadata": {},
   "outputs": [
    {
     "data": {
      "image/png": "[encoded data removed]",
      "text/plain": [
       "<Figure size 432x288 with 1 Axes>"
      ]
     },
     "metadata": {
      "needs_background": "light"
     },
     "output_type": "display_data"
    }
   ],
   "source": [
    "x = X_train.tenure\n",
    "y = y_train.churn\n",
    "sns.lineplot(x, y).set_title('Churn as customer tenure increases', fontsize = 18)\n",
    "plt.show()"
   ]
  },
  {
   "cell_type": "markdown",
   "metadata": {},
   "source": [
    "### Are the binary variables associated with customers a predictor of churn?"
   ]
  },
  {
   "cell_type": "markdown",
   "metadata": {},
   "source": [
    "Using comparative bar charts and t-tests, each variable is examine statistically for predictive value for churn (i.e. increases likelyhood of churn, decreases likelyhood or has no impact.\n",
    "\n",
    "0 is No churn; 1 is Churn"
   ]
  },
  {
   "cell_type": "code",
   "execution_count": 55,
   "metadata": {},
   "outputs": [
    {
     "data": {
      "image/png": "[encoded data removed]",
      "text/plain": [
       "<Figure size 1440x1800 with 12 Axes>"
      ]
     },
     "metadata": {
      "needs_background": "light"
     },
     "output_type": "display_data"
    }
   ],
   "source": [
    "plt.figure(figsize=(20,25))\n",
    "plt.suptitle('Churn vs. Not Churn for Binary Variables', fontsize = 18)\n",
    "\n",
    "plt.subplot(6,2,1)\n",
    "sns.barplot(x=X_train[\"DSL\"], y=y_train[\"churn\"])\n",
    "plt.subplot(6,2,2)\n",
    "sns.barplot(x=X_train[\"fiber_optic\"], y=y_train[\"churn\"])\n",
    "plt.subplot(6,2,3)\n",
    "sns.barplot(x=X_train[\"no_internet\"], y=y_train[\"churn\"])\n",
    "\n",
    "\n",
    "plt.subplot(6,2,4)\n",
    "sns.barplot(x=X_train[\"family\"], y=y_train[\"churn\"])\n",
    "plt.subplot(6,2,5)\n",
    "sns.barplot(x=X_train[\"gender\"], y=y_train[\"churn\"])\n",
    "plt.subplot(6,2,6)\n",
    "sns.barplot(x=X_train[\"senior_citizen\"], y=y_train[\"churn\"])\n",
    "\n",
    "\n",
    "plt.subplot(6,2,7)\n",
    "sns.barplot(x=X_train[\"phone_service\"], y=y_train[\"churn\"])\n",
    "\n",
    "plt.subplot(6,2,8)\n",
    "sns.barplot(x=X_train[\"monthly\"], y=y_train[\"churn\"])\n",
    "plt.subplot(6,2,9)\n",
    "sns.barplot(x=X_train[\"one_year\"], y=y_train[\"churn\"])\n",
    "plt.subplot(6,2,10)\n",
    "sns.barplot(x=X_train[\"two_year\"], y=y_train[\"churn\"])\n",
    "\n",
    "\n",
    "plt.subplot(6,2,11)\n",
    "sns.barplot(x=X_train[\"streaming\"], y=y_train[\"churn\"])\n",
    "plt.subplot(6,2,12)\n",
    "sns.barplot(x=X_train[\"services\"], y=y_train[\"churn\"])\n",
    "plt.show()\n",
    "#0 = Not churn\n",
    "#1 = Churn"
   ]
  },
  {
   "cell_type": "markdown",
   "metadata": {},
   "source": [
    "## T-tests testing statistical significance of binary variables with churn"
   ]
  },
  {
   "cell_type": "code",
   "execution_count": 56,
   "metadata": {},
   "outputs": [
    {
     "name": "stdout",
     "output_type": "stream",
     "text": [
      "The test statistic for DSL customers who churn vs. those who don't churn is: [-8.15545624]\n",
      "The p-value of the test is: [4.47182234e-16]\n"
     ]
    }
   ],
   "source": [
    "test_results = stats.ttest_ind(y_train[X_train.DSL == 1], y_train[X_train.DSL == 0])\n",
    "print(f\"The test statistic for DSL customers who churn vs. those who don't churn is: {test_results[0]}\")\n",
    "print(f\"The p-value of the test is: {test_results[1]}\")"
   ]
  },
  {
   "cell_type": "code",
   "execution_count": 57,
   "metadata": {},
   "outputs": [
    {
     "name": "stdout",
     "output_type": "stream",
     "text": [
      "The test statistic for fiber optic customers who churn vs. those who don't churn is: [21.88103835]\n",
      "The p-value of the test is: [6.22591115e-101]\n"
     ]
    }
   ],
   "source": [
    "test_results = stats.ttest_ind(y_train[X_train.fiber_optic == 1], y_train[X_train.fiber_optic == 0])\n",
    "print(f\"The test statistic for fiber optic customers who churn vs. those who don't churn is: {test_results[0]}\")\n",
    "print(f\"The p-value of the test is: {test_results[1]}\")"
   ]
  },
  {
   "cell_type": "code",
   "execution_count": 58,
   "metadata": {},
   "outputs": [
    {
     "name": "stdout",
     "output_type": "stream",
     "text": [
      "The test statistic for customers without internet who churn vs. those who don't churn is: [-16.386815]\n",
      "The p-value of the test is: [1.16175374e-58]\n"
     ]
    }
   ],
   "source": [
    "test_results = stats.ttest_ind(y_train[X_train.no_internet == 1], y_train[X_train.no_internet == 0])\n",
    "print(f\"The test statistic for customers without internet who churn vs. those who don't churn is: {test_results[0]}\")\n",
    "print(f\"The p-value of the test is: {test_results[1]}\")"
   ]
  },
  {
   "cell_type": "markdown",
   "metadata": {},
   "source": [
    "### Customers with DSL are statistically less likely to churn. \n",
    "### Customers with fiber optic are statistically more likely to churn. \n",
    "### Customers without internet do not churn at statistically significant rate."
   ]
  },
  {
   "cell_type": "markdown",
   "metadata": {},
   "source": [
    " "
   ]
  },
  {
   "cell_type": "code",
   "execution_count": 59,
   "metadata": {},
   "outputs": [
    {
     "name": "stdout",
     "output_type": "stream",
     "text": [
      "The test statistic for customers with family who churn vs. those who don't churn is: [-9.66469727]\n",
      "The p-value of the test is: [6.94672887e-22]\n"
     ]
    }
   ],
   "source": [
    "test_results = stats.ttest_ind(y_train[X_train.family == 1], y_train[X_train.family == 0])\n",
    "print(f\"The test statistic for customers with family who churn vs. those who don't churn is: {test_results[0]}\")\n",
    "print(f\"The p-value of the test is: {test_results[1]}\")"
   ]
  },
  {
   "cell_type": "code",
   "execution_count": 60,
   "metadata": {},
   "outputs": [
    {
     "name": "stdout",
     "output_type": "stream",
     "text": [
      "The test statistic for customer's gender who churn vs. those who don't churn is: [-0.77399709]\n",
      "The p-value of the test is: [0.43897325]\n"
     ]
    }
   ],
   "source": [
    "test_results = stats.ttest_ind(y_train[X_train.gender == 1], y_train[X_train.gender == 0])\n",
    "print(f\"The test statistic for customer's gender who churn vs. those who don't churn is: {test_results[0]}\")\n",
    "print(f\"The p-value of the test is: {test_results[1]}\")"
   ]
  },
  {
   "cell_type": "code",
   "execution_count": 61,
   "metadata": {},
   "outputs": [
    {
     "name": "stdout",
     "output_type": "stream",
     "text": [
      "The test statistic for senior citizens who churn vs. those who don't churn is: [10.08501682]\n",
      "The p-value of the test is: [1.14759699e-23]\n"
     ]
    }
   ],
   "source": [
    "test_results = stats.ttest_ind(y_train[X_train.senior_citizen == 1], y_train[X_train.senior_citizen == 0])\n",
    "print(f\"The test statistic for senior citizens who churn vs. those who don't churn is: {test_results[0]}\")\n",
    "print(f\"The p-value of the test is: {test_results[1]}\")"
   ]
  },
  {
   "cell_type": "markdown",
   "metadata": {},
   "source": [
    "### Customers with families are statistically less likely to churn. \n",
    "### Customers are senior are statistically more likely to churn. \n",
    "### Gender does not effect churn at statistically significant rate."
   ]
  },
  {
   "cell_type": "markdown",
   "metadata": {},
   "source": [
    " "
   ]
  },
  {
   "cell_type": "code",
   "execution_count": 62,
   "metadata": {},
   "outputs": [
    {
     "name": "stdout",
     "output_type": "stream",
     "text": [
      "The test statistic for people with phone service who churn vs. those who don't churn is: [1.06583898]\n",
      "The p-value of the test is: [0.28655374]\n"
     ]
    }
   ],
   "source": [
    "test_results = stats.ttest_ind(y_train[X_train.phone_service == 1], y_train[X_train.phone_service == 0])\n",
    "print(f\"The test statistic for people with phone service who churn vs. those who don't churn is: {test_results[0]}\")\n",
    "print(f\"The p-value of the test is: {test_results[1]}\")"
   ]
  },
  {
   "cell_type": "markdown",
   "metadata": {},
   "source": [
    "### Phone service is not a factor in churn"
   ]
  },
  {
   "cell_type": "markdown",
   "metadata": {},
   "source": [
    " "
   ]
  },
  {
   "cell_type": "code",
   "execution_count": 63,
   "metadata": {},
   "outputs": [
    {
     "name": "stdout",
     "output_type": "stream",
     "text": [
      "The test statistic for people with monthly phone service who churn vs. those who don't churn is: [28.16208355]\n",
      "The p-value of the test is: [7.78685535e-161]\n"
     ]
    }
   ],
   "source": [
    "test_results = stats.ttest_ind(y_train[X_train.monthly == 1], y_train[X_train.monthly == 0])\n",
    "print(f\"The test statistic for people with monthly phone service who churn vs. those who don't churn is: {test_results[0]}\")\n",
    "print(f\"The p-value of the test is: {test_results[1]}\")"
   ]
  },
  {
   "cell_type": "code",
   "execution_count": 64,
   "metadata": {},
   "outputs": [
    {
     "name": "stdout",
     "output_type": "stream",
     "text": [
      "The test statistic for people with a one-year contract who churn vs. those who don't churn is: [-10.96692848]\n",
      "The p-value of the test is: [1.23188169e-27]\n"
     ]
    }
   ],
   "source": [
    "test_results = stats.ttest_ind(y_train[X_train.one_year == 1], y_train[X_train.one_year == 0])\n",
    "print(f\"The test statistic for people with a one-year contract who churn vs. those who don't churn is: {test_results[0]}\")\n",
    "print(f\"The p-value of the test is: {test_results[1]}\")"
   ]
  },
  {
   "cell_type": "code",
   "execution_count": 65,
   "metadata": {},
   "outputs": [
    {
     "name": "stdout",
     "output_type": "stream",
     "text": [
      "The test statistic for people with a one-year contract who churn vs. those who don't churn is: [-20.11377426]\n",
      "The p-value of the test is: [3.16516908e-86]\n"
     ]
    }
   ],
   "source": [
    "test_results = stats.ttest_ind(y_train[X_train.two_year == 1], y_train[X_train.two_year == 0])\n",
    "print(f\"The test statistic for people with a one-year contract who churn vs. those who don't churn is: {test_results[0]}\")\n",
    "print(f\"The p-value of the test is: {test_results[1]}\")"
   ]
  },
  {
   "cell_type": "markdown",
   "metadata": {},
   "source": [
    "### Customers with monthly service are statistically more likely to churn. \n",
    "### Customers with one-year and two-year contracts are statistically more less likely to churn. "
   ]
  },
  {
   "cell_type": "markdown",
   "metadata": {},
   "source": [
    " "
   ]
  },
  {
   "cell_type": "code",
   "execution_count": 66,
   "metadata": {},
   "outputs": [
    {
     "name": "stdout",
     "output_type": "stream",
     "text": [
      "The test statistic for customers with streaming who churn vs. those who don't churn is: [8.26273307]\n",
      "The p-value of the test is: [1.85457706e-16]\n"
     ]
    }
   ],
   "source": [
    "test_results = stats.ttest_ind(y_train[X_train.streaming == 1], y_train[X_train.streaming == 0])\n",
    "print(f\"The test statistic for customers with streaming who churn vs. those who don't churn is: {test_results[0]}\")\n",
    "print(f\"The p-value of the test is: {test_results[1]}\")"
   ]
  },
  {
   "cell_type": "code",
   "execution_count": 67,
   "metadata": {},
   "outputs": [
    {
     "name": "stdout",
     "output_type": "stream",
     "text": [
      "The test statistic for customers with services who churn vs. those who don't churn is: [-0.96027809]\n",
      "The p-value of the test is: [0.33696697]\n"
     ]
    }
   ],
   "source": [
    "test_results = stats.ttest_ind(y_train[X_train.services == 1], y_train[X_train.services == 0])\n",
    "print(f\"The test statistic for customers with services who churn vs. those who don't churn is: {test_results[0]}\")\n",
    "print(f\"The p-value of the test is: {test_results[1]}\")"
   ]
  },
  {
   "cell_type": "markdown",
   "metadata": {},
   "source": [
    "### Customers with TV and movie streaming services are statistically more likely to churn. \n",
    "### Customers with online services are not statistically more likely to churn. "
   ]
  },
  {
   "cell_type": "markdown",
   "metadata": {},
   "source": [
    "## Percent of clients who fall into each category"
   ]
  },
  {
   "cell_type": "code",
   "execution_count": 106,
   "metadata": {},
   "outputs": [
    {
     "data": {
      "text/plain": [
       "gender             50.856888\n",
       "senior_citizen     16.848431\n",
       "tenure              0.000000\n",
       "phone_service      90.451814\n",
       "multiple_lines     45.492989\n",
       "monthly_charges     0.000000\n",
       "total_charges       0.000000\n",
       "family             55.886935\n",
       "streaming          52.192299\n",
       "services           60.449588\n",
       "DSL                34.208769\n",
       "fiber_optic        44.647229\n",
       "no_internet        21.144002\n",
       "monthly            51.368796\n",
       "one_year           22.701981\n",
       "two_year           25.929223\n",
       "tenure_years       16.269753\n",
       "dtype: float64"
      ]
     },
     "execution_count": 106,
     "metadata": {},
     "output_type": "execute_result"
    }
   ],
   "source": [
    "X_train[X_train == 1].sum()/4493*100"
   ]
  },
  {
   "cell_type": "markdown",
   "metadata": {},
   "source": [
    "# The biggest predictors of churn are whether the customer is a senior citizen, whether they have fiber optic cable and whether they are on a month-to-month contract.  Seniors are nearly 17% of our clients.  Clients with fiber optic internet are 44.6% and more than half our month-to-month users. "
   ]
  },
  {
   "cell_type": "markdown",
   "metadata": {},
   "source": [
    " "
   ]
  },
  {
   "cell_type": "markdown",
   "metadata": {},
   "source": [
    "H<sub>0</sub>:  Customers who churn do not have higher monthly charges when controlled for phone_id, internet_service_type_id, online_security_backup, device_protection, tech_support, and contract_type_id)\n",
    "\n",
    "H<sub>a</sub>:  Customers who churn have higher monthly charges."
   ]
  },
  {
   "cell_type": "code",
   "execution_count": 77,
   "metadata": {},
   "outputs": [],
   "source": [
    "X_train_reduced = X_train.drop(columns = ['phone_service', 'multiple_lines', 'services', 'monthly', 'one_year', 'two_year','DSL', 'fiber_optic', 'no_internet'])\n",
    "X_train_monthly_charges = pd.DataFrame(X_train_reduced['monthly_charges'])  \n",
    "subgroup0 = X_train_monthly_charges[(y_train == 0).churn]\n",
    "subgroup1 = X_train_monthly_charges[(y_train == 1).churn]"
   ]
  },
  {
   "cell_type": "code",
   "execution_count": 86,
   "metadata": {},
   "outputs": [
    {
     "data": {
      "image/png": "[encoded data removed]",
      "text/plain": [
       "<Figure size 432x288 with 1 Axes>"
      ]
     },
     "metadata": {
      "needs_background": "light"
     },
     "output_type": "display_data"
    }
   ],
   "source": [
    "sns.barplot(x = y_train.churn, y = X_train_monthly_charges.monthly_charges).set_title('Customers who churn have higher monthly charges', fontsize = 14)\n",
    "plt.show()"
   ]
  },
  {
   "cell_type": "code",
   "execution_count": 80,
   "metadata": {},
   "outputs": [
    {
     "data": {
      "text/plain": [
       "Ttest_indResult(statistic=array([-15.29527692]), pvalue=array([1.60272111e-51]))"
      ]
     },
     "execution_count": 80,
     "metadata": {},
     "output_type": "execute_result"
    }
   ],
   "source": [
    "test_results = stats.ttest_ind(subgroup0, subgroup1)\n",
    "test_results"
   ]
  },
  {
   "cell_type": "markdown",
   "metadata": {},
   "source": [
    "### Customers who churn have higher monthly charges."
   ]
  },
  {
   "cell_type": "code",
   "execution_count": null,
   "metadata": {},
   "outputs": [],
   "source": []
  },
  {
   "cell_type": "code",
   "execution_count": null,
   "metadata": {},
   "outputs": [],
   "source": []
  },
  {
   "cell_type": "markdown",
   "metadata": {},
   "source": [
    "### How much of monthly_charges can be explained by internet_service_type?"
   ]
  },
  {
   "cell_type": "markdown",
   "metadata": {},
   "source": [
    "H<sub>0</sub>:  Monthly charges are not correlated with internet service type\n",
    "\n",
    "H<sub>a</sub>:  Monthly charges are correlated with one or more internet services types and lack of internet services"
   ]
  },
  {
   "cell_type": "markdown",
   "metadata": {},
   "source": [
    "DSL"
   ]
  },
  {
   "cell_type": "code",
   "execution_count": null,
   "metadata": {},
   "outputs": [],
   "source": [
    "corr, p = stats.pearsonr(X_train.DSL, X_train.monthly_charges)\n",
    "corr, p"
   ]
  },
  {
   "cell_type": "markdown",
   "metadata": {},
   "source": [
    "Fiber optic"
   ]
  },
  {
   "cell_type": "code",
   "execution_count": null,
   "metadata": {},
   "outputs": [],
   "source": [
    "corr, p = stats.pearsonr(X_train.fiber_optic, X_train.monthly_charges)\n",
    "corr, p"
   ]
  },
  {
   "cell_type": "markdown",
   "metadata": {},
   "source": [
    "No internet"
   ]
  },
  {
   "cell_type": "code",
   "execution_count": null,
   "metadata": {},
   "outputs": [],
   "source": [
    "corr, p = stats.pearsonr(X_train.no_internet, X_train.monthly_charges)\n",
    "corr, p"
   ]
  },
  {
   "cell_type": "markdown",
   "metadata": {},
   "source": [
    "The two internet services have very low p-values, indicating correlation between internet service type and monthly charges. Additionally, the lack of internet with monthly charges is negatively correlated. \n",
    "\n",
    "However, the correlation coeficienct for DSL is quite small. Also, the sample size is very large, skewing the significance. Without further tests and only looking at the magnitude of the correlation, I'd say that DSL is not correlated to monthly charges, but fiber optic and lack of internet are. "
   ]
  },
  {
   "cell_type": "code",
   "execution_count": null,
   "metadata": {},
   "outputs": [],
   "source": []
  },
  {
   "cell_type": "markdown",
   "metadata": {},
   "source": [
    "## MVP models"
   ]
  },
  {
   "cell_type": "markdown",
   "metadata": {},
   "source": [
    "### Decision Tree"
   ]
  },
  {
   "cell_type": "code",
   "execution_count": null,
   "metadata": {},
   "outputs": [],
   "source": [
    "clf = DecisionTreeClassifier(criterion='gini', max_depth=6, random_state=123)\n",
    "clf.fit(X_train, y_train)\n",
    "y_pred = clf.predict(X_train)\n",
    "y_pred_proba = clf.predict_proba(X_train)\n",
    "print('Accuracy of Decision Tree classifier on training set (R2): {:.2f}'\n",
    "     .format(clf.score(X_train, y_train)))\n",
    "print()\n",
    "print(classification_report(y_train, y_pred))"
   ]
  },
  {
   "cell_type": "markdown",
   "metadata": {},
   "source": [
    "Interpreting a classification report\n",
    "\n",
    "Precision: the higher this number is, the more you were able to pinpoint all positives correctly. If this is a low score, you predicted a lot of positives where there were none. tp / (tp + fp)\n",
    "\n",
    "Recall: if this score is high, you didn’t miss a lot of positives. But as it gets lower, you are not predicting the positives that are actually there. tp / (tp + fn)\n",
    "\n",
    "f1-score: The balanced harmonic mean of Recall and Precision, giving both metrics equal weight. The higher the F-Measure is, the better.\n",
    "\n",
    "Support: number of occurrences of each class in where y is true.\n",
    "\n",
    "0 = Not churn\n",
    "1 = Churn"
   ]
  },
  {
   "cell_type": "markdown",
   "metadata": {},
   "source": [
    "### ***Running the decision tree with exactly the same specifications gave the same R2. However the recall rate for the MVP  climbed from 34% to 56%.***"
   ]
  },
  {
   "cell_type": "markdown",
   "metadata": {},
   "source": [
    "### Logstic regression"
   ]
  },
  {
   "cell_type": "code",
   "execution_count": null,
   "metadata": {},
   "outputs": [],
   "source": [
    "logit = LogisticRegression(random_state = 123, solver='saga')\n",
    "\n",
    "logit.fit(X_train, y_train)\n",
    "\n",
    "y_pred = logit.predict(X_train)\n",
    "\n",
    "y_pred_proba = logit.predict_proba(X_train)\n",
    "\n",
    "print('Accuracy of Logistic Regression classifier on training set (R2): {:.2f}'\n",
    "     .format(logit.score(X_train, y_train)))\n",
    "print()\n",
    "print(classification_report(y_train, y_pred))"
   ]
  },
  {
   "cell_type": "markdown",
   "metadata": {},
   "source": [
    "### ***Running logistic regression for the MVP provided a lower R2 than the baselines. The recall rate for the MVP fell from 34% to 27%.  Unscaled logistic regression is not a good predictor of churn.***"
   ]
  },
  {
   "cell_type": "markdown",
   "metadata": {},
   "source": [
    " "
   ]
  },
  {
   "cell_type": "markdown",
   "metadata": {},
   "source": [
    "## Run MVP models using test data"
   ]
  },
  {
   "cell_type": "markdown",
   "metadata": {},
   "source": [
    "### Decision tree"
   ]
  },
  {
   "cell_type": "code",
   "execution_count": null,
   "metadata": {},
   "outputs": [],
   "source": [
    "clf = DecisionTreeClassifier(criterion='gini', max_depth=6, random_state=123)\n",
    "clf.fit(X_train, y_train)\n",
    "y_pred_dt = clf.predict(X_test)\n",
    "y_pred_proba_dt = clf.predict_proba(X_test)\n",
    "print('Accuracy of Decision Tree classifier on training set (R2): {:.2f}'\n",
    "     .format(clf.score(X_test, y_test)))\n",
    "print()\n",
    "print(classification_report(y_test, y_pred_dt))"
   ]
  },
  {
   "cell_type": "markdown",
   "metadata": {},
   "source": [
    " "
   ]
  },
  {
   "cell_type": "markdown",
   "metadata": {},
   "source": [
    "### Logistic regression"
   ]
  },
  {
   "cell_type": "code",
   "execution_count": null,
   "metadata": {},
   "outputs": [],
   "source": [
    "logit = LogisticRegression(random_state = 123, solver='saga')\n",
    "\n",
    "logit.fit(X_train, y_train)\n",
    "\n",
    "y_pred = logit.predict(X_test)\n",
    "\n",
    "y_pred_proba = logit.predict_proba(X_test)\n",
    "\n",
    "print('Accuracy of Logistic Regression classifier on training set (R2): {:.2f}'\n",
    "     .format(logit.score(X_test, y_test)))\n",
    "print()\n",
    "print(classification_report(y_test, y_pred))"
   ]
  },
  {
   "cell_type": "markdown",
   "metadata": {},
   "source": [
    " "
   ]
  },
  {
   "cell_type": "markdown",
   "metadata": {},
   "source": [
    "## The decision tree for the MVP provided the highest R2 (79%) of the two models. More importantly, the recall rate is also the highest at 45%. \n",
    "\n"
   ]
  },
  {
   "cell_type": "markdown",
   "metadata": {},
   "source": [
    "## The recall rate is important because we are more concerned with avoiding false negatives.\n",
    "\n"
   ]
  },
  {
   "cell_type": "markdown",
   "metadata": {},
   "source": [
    "## I would recommend using this model until further feature engineering is conducted. "
   ]
  },
  {
   "cell_type": "markdown",
   "metadata": {},
   "source": [
    " "
   ]
  },
  {
   "cell_type": "markdown",
   "metadata": {},
   "source": [
    "## Saving decision tree model to a csv file"
   ]
  },
  {
   "cell_type": "code",
   "execution_count": null,
   "metadata": {},
   "outputs": [],
   "source": [
    "y_pred_dt = clf.predict(X_train)"
   ]
  },
  {
   "cell_type": "code",
   "execution_count": null,
   "metadata": {},
   "outputs": [],
   "source": [
    "y_pred_proba_dt = clf.predict_proba(X_train)"
   ]
  },
  {
   "cell_type": "code",
   "execution_count": null,
   "metadata": {},
   "outputs": [],
   "source": [
    "df_final = pd.concat([X_train, X_test])"
   ]
  },
  {
   "cell_type": "code",
   "execution_count": null,
   "metadata": {},
   "outputs": [],
   "source": [
    "df_final.shape"
   ]
  },
  {
   "cell_type": "code",
   "execution_count": null,
   "metadata": {},
   "outputs": [],
   "source": [
    "prediction = clf.predict(df_final)"
   ]
  },
  {
   "cell_type": "code",
   "execution_count": null,
   "metadata": {},
   "outputs": [],
   "source": [
    "y_pred_proba_dt = clf.predict_proba(df_final)\n",
    "y_pred_proba_dt[:,1]"
   ]
  },
  {
   "cell_type": "code",
   "execution_count": null,
   "metadata": {},
   "outputs": [],
   "source": [
    "y_predictions = pd.DataFrame({'probability': y_pred_proba_dt[:,1], 'predictions': (y_pred_proba_dt[:,1] >= .5) == 1})"
   ]
  },
  {
   "cell_type": "code",
   "execution_count": null,
   "metadata": {},
   "outputs": [],
   "source": [
    "(y_pred_proba_dt[:,1] >= .5) == 1"
   ]
  },
  {
   "cell_type": "code",
   "execution_count": null,
   "metadata": {},
   "outputs": [],
   "source": [
    "y_predictions = y_predictions.set_index(df.index)"
   ]
  },
  {
   "cell_type": "code",
   "execution_count": null,
   "metadata": {},
   "outputs": [],
   "source": [
    "y_predictions.to_csv(r'probability_and_predictions.csv')"
   ]
  },
  {
   "cell_type": "code",
   "execution_count": null,
   "metadata": {},
   "outputs": [],
   "source": [
    "y_predictions.mean()"
   ]
  },
  {
   "cell_type": "markdown",
   "metadata": {},
   "source": [
    "# Conclusions about causes of churn"
   ]
  },
  {
   "cell_type": "markdown",
   "metadata": {},
   "source": [
    "The data indicate that customers are opportunists acting in their own financial best interests. Now that people can change phone companies while retaining their phone numbers, the inconvenience of jumping from one company to another has been greatly reduced. In the current highly competitive business environment, profits are sometimes sacrificed for market share, especially for new services like fiber optic internet. This situation can lead to high churn among our most economically sensitive customers, including young people (month-to-month contacts and fiber optic) and seniors, both of who can jump to the next great deal offered by our competitors."
   ]
  }
 ],
 "metadata": {
  "kernelspec": {
   "display_name": "Python 3",
   "language": "python",
   "name": "python3"
  },
  "language_info": {
   "codemirror_mode": {
    "name": "ipython",
    "version": 3
   },
   "file_extension": ".py",
   "mimetype": "text/x-python",
   "name": "python",
   "nbconvert_exporter": "python",
   "pygments_lexer": "ipython3",
   "version": "3.7.3"
  }
 },
 "nbformat": 4,
 "nbformat_minor": 2
}
